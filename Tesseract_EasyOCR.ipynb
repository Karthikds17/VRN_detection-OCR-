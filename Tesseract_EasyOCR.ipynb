{
 "cells": [
  {
   "cell_type": "code",
   "execution_count": 1,
   "metadata": {},
   "outputs": [],
   "source": [
    "import pandas as pd\n",
    "import numpy as np\n",
    "import re\n",
    "import cv2\n",
    "from glob import glob\n",
    "import difflib as dl\n",
    "from skimage.transform import radon, rotate\n",
    "import seaborn as sns\n",
    "from matplotlib import pyplot as plt\n",
    "%matplotlib inline\n",
    "\n",
    "import imutils\n",
    "import easyocr\n",
    "\n",
    "import pytesseract\n",
    "pytesseract.pytesseract.tesseract_cmd = '/usr/local/Cellar/tesseract/4.1.1/bin/tesseract'"
   ]
  },
  {
   "cell_type": "markdown",
   "metadata": {},
   "source": [
    "### load metadata"
   ]
  },
  {
   "cell_type": "code",
   "execution_count": 2,
   "metadata": {},
   "outputs": [
    {
     "data": {
      "text/plain": [
       "(1839, 31)"
      ]
     },
     "execution_count": 2,
     "metadata": {},
     "output_type": "execute_result"
    }
   ],
   "source": [
    "meta = pd.read_csv('meta_data.csv')\n",
    "meta.shape"
   ]
  },
  {
   "cell_type": "code",
   "execution_count": 3,
   "metadata": {},
   "outputs": [
    {
     "data": {
      "text/html": [
       "<div>\n",
       "<style scoped>\n",
       "    .dataframe tbody tr th:only-of-type {\n",
       "        vertical-align: middle;\n",
       "    }\n",
       "\n",
       "    .dataframe tbody tr th {\n",
       "        vertical-align: top;\n",
       "    }\n",
       "\n",
       "    .dataframe thead th {\n",
       "        text-align: right;\n",
       "    }\n",
       "</style>\n",
       "<table border=\"1\" class=\"dataframe\">\n",
       "  <thead>\n",
       "    <tr style=\"text-align: right;\">\n",
       "      <th></th>\n",
       "      <th>XMLFile</th>\n",
       "      <th>plate_read</th>\n",
       "      <th>InstanceID</th>\n",
       "      <th>CameraID</th>\n",
       "      <th>TimeStamp</th>\n",
       "      <th>TimeStampError</th>\n",
       "      <th>LaneID</th>\n",
       "      <th>VehicleDirection</th>\n",
       "      <th>PlateNotRead</th>\n",
       "      <th>VRN</th>\n",
       "      <th>...</th>\n",
       "      <th>PlateYCoord</th>\n",
       "      <th>PlateWidth</th>\n",
       "      <th>PlateHeight</th>\n",
       "      <th>ANPRImageWidth</th>\n",
       "      <th>ANPRImageHeight</th>\n",
       "      <th>IRImage</th>\n",
       "      <th>IRImagePatch</th>\n",
       "      <th>ContextImage</th>\n",
       "      <th>ContextImagePatch</th>\n",
       "      <th>ContextVideo</th>\n",
       "    </tr>\n",
       "  </thead>\n",
       "  <tbody>\n",
       "    <tr>\n",
       "      <th>0</th>\n",
       "      <td>14134_19700101194928245_BHA6172_1.xml</td>\n",
       "      <td>\\n\\t</td>\n",
       "      <td>14134</td>\n",
       "      <td>2</td>\n",
       "      <td>1970-01-01T15:49:28.245-0400</td>\n",
       "      <td>0</td>\n",
       "      <td>1</td>\n",
       "      <td>A</td>\n",
       "      <td>0</td>\n",
       "      <td>BHA6172</td>\n",
       "      <td>...</td>\n",
       "      <td>589.0</td>\n",
       "      <td>280.0</td>\n",
       "      <td>80.0</td>\n",
       "      <td>1280.0</td>\n",
       "      <td>1024.0</td>\n",
       "      <td>NaN</td>\n",
       "      <td>ir_patch/14134_19700101194928245_BHA6172_1_ir_...</td>\n",
       "      <td>context/14134_19700101194928245_BHA6172_1_cont...</td>\n",
       "      <td>NaN</td>\n",
       "      <td>NaN</td>\n",
       "    </tr>\n",
       "    <tr>\n",
       "      <th>1</th>\n",
       "      <td>14135_19700101195631172_BMU2999_1.xml</td>\n",
       "      <td>\\n\\t</td>\n",
       "      <td>14135</td>\n",
       "      <td>2</td>\n",
       "      <td>1970-01-01T15:56:31.172-0400</td>\n",
       "      <td>0</td>\n",
       "      <td>1</td>\n",
       "      <td>A</td>\n",
       "      <td>0</td>\n",
       "      <td>BMU2999</td>\n",
       "      <td>...</td>\n",
       "      <td>283.0</td>\n",
       "      <td>280.0</td>\n",
       "      <td>80.0</td>\n",
       "      <td>1280.0</td>\n",
       "      <td>1024.0</td>\n",
       "      <td>NaN</td>\n",
       "      <td>ir_patch/14135_19700101195631172_BMU2999_1_ir_...</td>\n",
       "      <td>context/14135_19700101195631172_BMU2999_1_cont...</td>\n",
       "      <td>NaN</td>\n",
       "      <td>NaN</td>\n",
       "    </tr>\n",
       "    <tr>\n",
       "      <th>2</th>\n",
       "      <td>14136_19700101195849178_PFF9889_1.xml</td>\n",
       "      <td>\\n\\t</td>\n",
       "      <td>14136</td>\n",
       "      <td>2</td>\n",
       "      <td>1970-01-01T15:58:49.178-0400</td>\n",
       "      <td>0</td>\n",
       "      <td>1</td>\n",
       "      <td>A</td>\n",
       "      <td>0</td>\n",
       "      <td>PFF9889</td>\n",
       "      <td>...</td>\n",
       "      <td>583.0</td>\n",
       "      <td>280.0</td>\n",
       "      <td>80.0</td>\n",
       "      <td>1280.0</td>\n",
       "      <td>1024.0</td>\n",
       "      <td>NaN</td>\n",
       "      <td>ir_patch/14136_19700101195849178_PFF9889_1_ir_...</td>\n",
       "      <td>context/14136_19700101195849178_PFF9889_1_cont...</td>\n",
       "      <td>NaN</td>\n",
       "      <td>NaN</td>\n",
       "    </tr>\n",
       "    <tr>\n",
       "      <th>3</th>\n",
       "      <td>14137_19700101200204933_PTA2105_1.xml</td>\n",
       "      <td>\\n\\t</td>\n",
       "      <td>14137</td>\n",
       "      <td>2</td>\n",
       "      <td>1970-01-01T16:02:04.933-0400</td>\n",
       "      <td>0</td>\n",
       "      <td>1</td>\n",
       "      <td>A</td>\n",
       "      <td>0</td>\n",
       "      <td>PTA2105</td>\n",
       "      <td>...</td>\n",
       "      <td>727.0</td>\n",
       "      <td>280.0</td>\n",
       "      <td>80.0</td>\n",
       "      <td>1280.0</td>\n",
       "      <td>1024.0</td>\n",
       "      <td>NaN</td>\n",
       "      <td>ir_patch/14137_19700101200204933_PTA2105_1_ir_...</td>\n",
       "      <td>context/14137_19700101200204933_PTA2105_1_cont...</td>\n",
       "      <td>NaN</td>\n",
       "      <td>NaN</td>\n",
       "    </tr>\n",
       "    <tr>\n",
       "      <th>4</th>\n",
       "      <td>14140_19700101200442871_CCD7351_1.xml</td>\n",
       "      <td>\\n\\t</td>\n",
       "      <td>14140</td>\n",
       "      <td>2</td>\n",
       "      <td>1970-01-01T16:04:42.871-0400</td>\n",
       "      <td>0</td>\n",
       "      <td>1</td>\n",
       "      <td>A</td>\n",
       "      <td>0</td>\n",
       "      <td>CCD7351</td>\n",
       "      <td>...</td>\n",
       "      <td>943.0</td>\n",
       "      <td>280.0</td>\n",
       "      <td>80.0</td>\n",
       "      <td>1280.0</td>\n",
       "      <td>1024.0</td>\n",
       "      <td>NaN</td>\n",
       "      <td>ir_patch/14140_19700101200442871_CCD7351_1_ir_...</td>\n",
       "      <td>context/14140_19700101200442871_CCD7351_1_cont...</td>\n",
       "      <td>NaN</td>\n",
       "      <td>NaN</td>\n",
       "    </tr>\n",
       "  </tbody>\n",
       "</table>\n",
       "<p>5 rows × 31 columns</p>\n",
       "</div>"
      ],
      "text/plain": [
       "                                 XMLFile plate_read  InstanceID  CameraID  \\\n",
       "0  14134_19700101194928245_BHA6172_1.xml       \\n\\t       14134         2   \n",
       "1  14135_19700101195631172_BMU2999_1.xml       \\n\\t       14135         2   \n",
       "2  14136_19700101195849178_PFF9889_1.xml       \\n\\t       14136         2   \n",
       "3  14137_19700101200204933_PTA2105_1.xml       \\n\\t       14137         2   \n",
       "4  14140_19700101200442871_CCD7351_1.xml       \\n\\t       14140         2   \n",
       "\n",
       "                      TimeStamp  TimeStampError  LaneID VehicleDirection  \\\n",
       "0  1970-01-01T15:49:28.245-0400               0       1                A   \n",
       "1  1970-01-01T15:56:31.172-0400               0       1                A   \n",
       "2  1970-01-01T15:58:49.178-0400               0       1                A   \n",
       "3  1970-01-01T16:02:04.933-0400               0       1                A   \n",
       "4  1970-01-01T16:04:42.871-0400               0       1                A   \n",
       "\n",
       "   PlateNotRead      VRN  ...  PlateYCoord  PlateWidth  PlateHeight  \\\n",
       "0             0  BHA6172  ...        589.0       280.0         80.0   \n",
       "1             0  BMU2999  ...        283.0       280.0         80.0   \n",
       "2             0  PFF9889  ...        583.0       280.0         80.0   \n",
       "3             0  PTA2105  ...        727.0       280.0         80.0   \n",
       "4             0  CCD7351  ...        943.0       280.0         80.0   \n",
       "\n",
       "   ANPRImageWidth ANPRImageHeight  IRImage  \\\n",
       "0          1280.0          1024.0      NaN   \n",
       "1          1280.0          1024.0      NaN   \n",
       "2          1280.0          1024.0      NaN   \n",
       "3          1280.0          1024.0      NaN   \n",
       "4          1280.0          1024.0      NaN   \n",
       "\n",
       "                                        IRImagePatch  \\\n",
       "0  ir_patch/14134_19700101194928245_BHA6172_1_ir_...   \n",
       "1  ir_patch/14135_19700101195631172_BMU2999_1_ir_...   \n",
       "2  ir_patch/14136_19700101195849178_PFF9889_1_ir_...   \n",
       "3  ir_patch/14137_19700101200204933_PTA2105_1_ir_...   \n",
       "4  ir_patch/14140_19700101200442871_CCD7351_1_ir_...   \n",
       "\n",
       "                                        ContextImage  ContextImagePatch  \\\n",
       "0  context/14134_19700101194928245_BHA6172_1_cont...                NaN   \n",
       "1  context/14135_19700101195631172_BMU2999_1_cont...                NaN   \n",
       "2  context/14136_19700101195849178_PFF9889_1_cont...                NaN   \n",
       "3  context/14137_19700101200204933_PTA2105_1_cont...                NaN   \n",
       "4  context/14140_19700101200442871_CCD7351_1_cont...                NaN   \n",
       "\n",
       "   ContextVideo  \n",
       "0           NaN  \n",
       "1           NaN  \n",
       "2           NaN  \n",
       "3           NaN  \n",
       "4           NaN  \n",
       "\n",
       "[5 rows x 31 columns]"
      ]
     },
     "execution_count": 3,
     "metadata": {},
     "output_type": "execute_result"
    }
   ],
   "source": [
    "meta.head()"
   ]
  },
  {
   "cell_type": "markdown",
   "metadata": {},
   "source": [
    "### read the names of all images"
   ]
  },
  {
   "cell_type": "code",
   "execution_count": 4,
   "metadata": {},
   "outputs": [
    {
     "name": "stdout",
     "output_type": "stream",
     "text": [
      "1821\n"
     ]
    }
   ],
   "source": [
    "filenames = glob(\"ir_patch/*.jpg\")\n",
    "print(len(filenames))"
   ]
  },
  {
   "cell_type": "code",
   "execution_count": 5,
   "metadata": {},
   "outputs": [
    {
     "data": {
      "text/html": [
       "<div>\n",
       "<style scoped>\n",
       "    .dataframe tbody tr th:only-of-type {\n",
       "        vertical-align: middle;\n",
       "    }\n",
       "\n",
       "    .dataframe tbody tr th {\n",
       "        vertical-align: top;\n",
       "    }\n",
       "\n",
       "    .dataframe thead th {\n",
       "        text-align: right;\n",
       "    }\n",
       "</style>\n",
       "<table border=\"1\" class=\"dataframe\">\n",
       "  <thead>\n",
       "    <tr style=\"text-align: right;\">\n",
       "      <th></th>\n",
       "      <th>image_name</th>\n",
       "    </tr>\n",
       "  </thead>\n",
       "  <tbody>\n",
       "    <tr>\n",
       "      <th>0</th>\n",
       "      <td>ir_patch/14574_19700101213907739_CBX797_1_ir_p...</td>\n",
       "    </tr>\n",
       "    <tr>\n",
       "      <th>1</th>\n",
       "      <td>ir_patch/14605_19700101004759437_CCR5569_1_ir_...</td>\n",
       "    </tr>\n",
       "    <tr>\n",
       "      <th>2</th>\n",
       "      <td>ir_patch/14266_19700101121952907_AT1539_1_ir_p...</td>\n",
       "    </tr>\n",
       "    <tr>\n",
       "      <th>3</th>\n",
       "      <td>ir_patch/14590_19700101221725855_CBF4426_1_ir_...</td>\n",
       "    </tr>\n",
       "    <tr>\n",
       "      <th>4</th>\n",
       "      <td>ir_patch/16439_19700101122520938_PVY8368_1_ir_...</td>\n",
       "    </tr>\n",
       "  </tbody>\n",
       "</table>\n",
       "</div>"
      ],
      "text/plain": [
       "                                          image_name\n",
       "0  ir_patch/14574_19700101213907739_CBX797_1_ir_p...\n",
       "1  ir_patch/14605_19700101004759437_CCR5569_1_ir_...\n",
       "2  ir_patch/14266_19700101121952907_AT1539_1_ir_p...\n",
       "3  ir_patch/14590_19700101221725855_CBF4426_1_ir_...\n",
       "4  ir_patch/16439_19700101122520938_PVY8368_1_ir_..."
      ]
     },
     "execution_count": 5,
     "metadata": {},
     "output_type": "execute_result"
    }
   ],
   "source": [
    "image_names = pd.DataFrame(filenames, columns = ['image_name'])\n",
    "image_names.head()"
   ]
  },
  {
   "cell_type": "markdown",
   "metadata": {},
   "source": [
    "The number of entries in the metadata is greater than the number of images."
   ]
  },
  {
   "cell_type": "code",
   "execution_count": 6,
   "metadata": {},
   "outputs": [],
   "source": [
    "# merge image_names and meta_data to get the targets\n",
    "plates = image_names.merge(meta,how='inner',left_on='image_name',right_on='IRImagePatch')\n",
    "plates = plates[['image_name','VRN']]"
   ]
  },
  {
   "cell_type": "code",
   "execution_count": 7,
   "metadata": {},
   "outputs": [],
   "source": [
    "# There are duplicated entries in metadata\n",
    "# drop duplicates\n",
    "plates.drop_duplicates(inplace=True)"
   ]
  },
  {
   "cell_type": "code",
   "execution_count": 8,
   "metadata": {},
   "outputs": [
    {
     "name": "stdout",
     "output_type": "stream",
     "text": [
      "<class 'pandas.core.frame.DataFrame'>\n",
      "Int64Index: 1821 entries, 0 to 1838\n",
      "Data columns (total 2 columns):\n",
      " #   Column      Non-Null Count  Dtype \n",
      "---  ------      --------------  ----- \n",
      " 0   image_name  1821 non-null   object\n",
      " 1   VRN         1821 non-null   object\n",
      "dtypes: object(2)\n",
      "memory usage: 42.7+ KB\n"
     ]
    }
   ],
   "source": [
    "plates.info()"
   ]
  },
  {
   "cell_type": "code",
   "execution_count": 9,
   "metadata": {},
   "outputs": [
    {
     "data": {
      "text/html": [
       "<div>\n",
       "<style scoped>\n",
       "    .dataframe tbody tr th:only-of-type {\n",
       "        vertical-align: middle;\n",
       "    }\n",
       "\n",
       "    .dataframe tbody tr th {\n",
       "        vertical-align: top;\n",
       "    }\n",
       "\n",
       "    .dataframe thead th {\n",
       "        text-align: right;\n",
       "    }\n",
       "</style>\n",
       "<table border=\"1\" class=\"dataframe\">\n",
       "  <thead>\n",
       "    <tr style=\"text-align: right;\">\n",
       "      <th></th>\n",
       "      <th>image_name</th>\n",
       "      <th>VRN</th>\n",
       "    </tr>\n",
       "  </thead>\n",
       "  <tbody>\n",
       "    <tr>\n",
       "      <th>0</th>\n",
       "      <td>ir_patch/14574_19700101213907739_CBX797_1_ir_p...</td>\n",
       "      <td>CBX797</td>\n",
       "    </tr>\n",
       "    <tr>\n",
       "      <th>1</th>\n",
       "      <td>ir_patch/14605_19700101004759437_CCR5569_1_ir_...</td>\n",
       "      <td>CCR5569</td>\n",
       "    </tr>\n",
       "    <tr>\n",
       "      <th>2</th>\n",
       "      <td>ir_patch/14266_19700101121952907_AT1539_1_ir_p...</td>\n",
       "      <td>AT1539</td>\n",
       "    </tr>\n",
       "    <tr>\n",
       "      <th>3</th>\n",
       "      <td>ir_patch/14590_19700101221725855_CBF4426_1_ir_...</td>\n",
       "      <td>CBF4426</td>\n",
       "    </tr>\n",
       "    <tr>\n",
       "      <th>4</th>\n",
       "      <td>ir_patch/16439_19700101122520938_PVY8368_1_ir_...</td>\n",
       "      <td>PVY8368</td>\n",
       "    </tr>\n",
       "  </tbody>\n",
       "</table>\n",
       "</div>"
      ],
      "text/plain": [
       "                                          image_name      VRN\n",
       "0  ir_patch/14574_19700101213907739_CBX797_1_ir_p...   CBX797\n",
       "1  ir_patch/14605_19700101004759437_CCR5569_1_ir_...  CCR5569\n",
       "2  ir_patch/14266_19700101121952907_AT1539_1_ir_p...   AT1539\n",
       "3  ir_patch/14590_19700101221725855_CBF4426_1_ir_...  CBF4426\n",
       "4  ir_patch/16439_19700101122520938_PVY8368_1_ir_...  PVY8368"
      ]
     },
     "execution_count": 9,
     "metadata": {},
     "output_type": "execute_result"
    }
   ],
   "source": [
    "plates.head()"
   ]
  },
  {
   "cell_type": "code",
   "execution_count": 10,
   "metadata": {},
   "outputs": [],
   "source": [
    "# save the names of the images in a list\n",
    "name_list = plates.image_name.tolist()"
   ]
  },
  {
   "cell_type": "markdown",
   "metadata": {},
   "source": [
    "## cv2 + pytesseract"
   ]
  },
  {
   "cell_type": "markdown",
   "metadata": {},
   "source": [
    "### try for a single image"
   ]
  },
  {
   "cell_type": "code",
   "execution_count": 11,
   "metadata": {},
   "outputs": [
    {
     "data": {
      "text/plain": [
       "<matplotlib.image.AxesImage at 0x7ff87d968ee0>"
      ]
     },
     "execution_count": 11,
     "metadata": {},
     "output_type": "execute_result"
    },
    {
     "data": {
      "image/png": "[encoded data removed]",
      "text/plain": [
       "<Figure size 432x288 with 1 Axes>"
      ]
     },
     "metadata": {
      "needs_background": "light"
     },
     "output_type": "display_data"
    }
   ],
   "source": [
    "# read image\n",
    "image = cv2.imread(name_list[1])\n",
    "plt.imshow(image)"
   ]
  },
  {
   "cell_type": "code",
   "execution_count": 12,
   "metadata": {},
   "outputs": [
    {
     "data": {
      "text/plain": [
       "<matplotlib.image.AxesImage at 0x7ff87daee220>"
      ]
     },
     "execution_count": 12,
     "metadata": {},
     "output_type": "execute_result"
    },
    {
     "data": {
      "image/png": "[encoded data removed]",
      "text/plain": [
       "<Figure size 432x288 with 1 Axes>"
      ]
     },
     "metadata": {
      "needs_background": "light"
     },
     "output_type": "display_data"
    }
   ],
   "source": [
    "# convert to grayscale\n",
    "grayscale_image = cv2.cvtColor(image, cv2.COLOR_BGR2GRAY)\n",
    "plt.imshow(grayscale_image, cmap='gray')"
   ]
  },
  {
   "cell_type": "code",
   "execution_count": 13,
   "metadata": {},
   "outputs": [
    {
     "data": {
      "text/plain": [
       "array([[34, 32, 29, ..., 28, 28, 28],\n",
       "       [33, 31, 29, ..., 28, 28, 28],\n",
       "       [31, 30, 28, ..., 28, 28, 28],\n",
       "       ...,\n",
       "       [20, 20, 20, ..., 28, 28, 28],\n",
       "       [20, 20, 20, ..., 28, 28, 28],\n",
       "       [20, 20, 20, ..., 28, 28, 28]], dtype=uint8)"
      ]
     },
     "execution_count": 13,
     "metadata": {},
     "output_type": "execute_result"
    }
   ],
   "source": [
    "grayscale_image"
   ]
  },
  {
   "cell_type": "code",
   "execution_count": 14,
   "metadata": {},
   "outputs": [
    {
     "data": {
      "text/plain": [
       "<matplotlib.image.AxesImage at 0x7ff8750ef4c0>"
      ]
     },
     "execution_count": 14,
     "metadata": {},
     "output_type": "execute_result"
    },
    {
     "data": {
      "image/png": "[encoded data removed]",
      "text/plain": [
       "<Figure size 432x288 with 1 Axes>"
      ]
     },
     "metadata": {
      "needs_background": "light"
     },
     "output_type": "display_data"
    }
   ],
   "source": [
    "# threshold using OTSU method\n",
    "thresh_value, threshold_image = cv2.threshold(grayscale_image, 0, 255, cv2.THRESH_BINARY | cv2.THRESH_OTSU)\n",
    "plt.imshow(threshold_image, cmap='gray')"
   ]
  },
  {
   "cell_type": "code",
   "execution_count": 15,
   "metadata": {},
   "outputs": [
    {
     "data": {
      "text/plain": [
       "<matplotlib.image.AxesImage at 0x7ff876ba8a60>"
      ]
     },
     "execution_count": 15,
     "metadata": {},
     "output_type": "execute_result"
    },
    {
     "data": {
      "image/png": "[encoded data removed]",
      "text/plain": [
       "<Figure size 432x288 with 1 Axes>"
      ]
     },
     "metadata": {
      "needs_background": "light"
     },
     "output_type": "display_data"
    }
   ],
   "source": [
    "# get the largest contour and crop the image\n",
    "contours, _ = cv2.findContours(threshold_image, cv2.RETR_EXTERNAL, cv2.CHAIN_APPROX_SIMPLE)\n",
    "sorted_contours = sorted(contours, key=cv2.contourArea, reverse=True)\n",
    "x, y, w, h = cv2.boundingRect(sorted_contours[0])\n",
    "cropped_plate = grayscale_image[y:y+h, x:x+w]\n",
    "plt.imshow(cropped_plate, cmap='gray')"
   ]
  },
  {
   "cell_type": "code",
   "execution_count": 16,
   "metadata": {},
   "outputs": [
    {
     "data": {
      "text/plain": [
       "<matplotlib.image.AxesImage at 0x7ff87cba28e0>"
      ]
     },
     "execution_count": 16,
     "metadata": {},
     "output_type": "execute_result"
    },
    {
     "data": {
      "image/png": "[encoded data removed]",
      "text/plain": [
       "<Figure size 432x288 with 1 Axes>"
      ]
     },
     "metadata": {
      "needs_background": "light"
     },
     "output_type": "display_data"
    }
   ],
   "source": [
    "# blur\n",
    "gaussian = cv2.GaussianBlur(cropped_plate, (3, 3), 50)\n",
    "plt.imshow(gaussian, cmap='gray')"
   ]
  },
  {
   "cell_type": "code",
   "execution_count": 17,
   "metadata": {},
   "outputs": [
    {
     "data": {
      "text/plain": [
       "<matplotlib.image.AxesImage at 0x7ff87cca70d0>"
      ]
     },
     "execution_count": 17,
     "metadata": {},
     "output_type": "execute_result"
    },
    {
     "data": {
      "image/png": "[encoded data removed]",
      "text/plain": [
       "<Figure size 432x288 with 1 Axes>"
      ]
     },
     "metadata": {
      "needs_background": "light"
     },
     "output_type": "display_data"
    }
   ],
   "source": [
    "# threshold on the cropped image\n",
    "thresh = cv2.adaptiveThreshold(gaussian,255,cv2.ADAPTIVE_THRESH_GAUSSIAN_C,cv2.THRESH_BINARY,15,3)\n",
    "plt.imshow(thresh, cmap='gray')"
   ]
  },
  {
   "cell_type": "code",
   "execution_count": 18,
   "metadata": {},
   "outputs": [
    {
     "name": "stdout",
     "output_type": "stream",
     "text": [
      "CCR5569\n",
      "\f",
      "\n"
     ]
    }
   ],
   "source": [
    "# extract text using tesseract\n",
    "print(pytesseract.image_to_string(thresh, \n",
    "                                  config='-c tessedit_char_whitelist=ABCDEFGHIJKLMNOPQRSTUVWXYZ0123456789'))"
   ]
  },
  {
   "cell_type": "markdown",
   "metadata": {},
   "source": [
    "### apply to all image"
   ]
  },
  {
   "cell_type": "code",
   "execution_count": 20,
   "metadata": {},
   "outputs": [],
   "source": [
    "result = plates.copy()\n",
    "for name in name_list:\n",
    "    # load image\n",
    "    image = cv2.imread(name)\n",
    "    # grayscale\n",
    "    grayscale_image = cv2.cvtColor(image, cv2.COLOR_BGR2GRAY)\n",
    "    # crop image\n",
    "    thresh_value, threshold_image = cv2.threshold(grayscale_image, 0, 255, cv2.THRESH_BINARY | cv2.THRESH_OTSU)\n",
    "    contours, _ = cv2.findContours(threshold_image, cv2.RETR_EXTERNAL, cv2.CHAIN_APPROX_SIMPLE)\n",
    "    sorted_contours = sorted(contours, key=cv2.contourArea, reverse=True)\n",
    "    x, y, w, h = cv2.boundingRect(sorted_contours[0])\n",
    "    cropped_plate = grayscale_image[y:y+h, x:x+w]\n",
    "    # blur\n",
    "    gaussian = cv2.GaussianBlur(cropped_plate, (3, 3), 50)\n",
    "    # threshold\n",
    "    thresh = cv2.adaptiveThreshold(gaussian,255,cv2.ADAPTIVE_THRESH_GAUSSIAN_C,cv2.THRESH_BINARY,7,3)\n",
    "    # recognize by tesseract\n",
    "    recognition = pytesseract.image_to_string(thresh, \n",
    "                            config='-c tessedit_char_whitelist=ABCDEFGHIJKLMNOPQRSTUVWXYZ0123456789')\n",
    "    recognition = recognition.strip()\n",
    "    result.loc[plates['image_name']==name,'recognition'] = recognition"
   ]
  },
  {
   "cell_type": "code",
   "execution_count": 21,
   "metadata": {},
   "outputs": [
    {
     "data": {
      "text/html": [
       "<div>\n",
       "<style scoped>\n",
       "    .dataframe tbody tr th:only-of-type {\n",
       "        vertical-align: middle;\n",
       "    }\n",
       "\n",
       "    .dataframe tbody tr th {\n",
       "        vertical-align: top;\n",
       "    }\n",
       "\n",
       "    .dataframe thead th {\n",
       "        text-align: right;\n",
       "    }\n",
       "</style>\n",
       "<table border=\"1\" class=\"dataframe\">\n",
       "  <thead>\n",
       "    <tr style=\"text-align: right;\">\n",
       "      <th></th>\n",
       "      <th>image_name</th>\n",
       "      <th>VRN</th>\n",
       "      <th>recognition</th>\n",
       "    </tr>\n",
       "  </thead>\n",
       "  <tbody>\n",
       "    <tr>\n",
       "      <th>0</th>\n",
       "      <td>ir_patch/14574_19700101213907739_CBX797_1_ir_p...</td>\n",
       "      <td>CBX797</td>\n",
       "      <td>EBX797E</td>\n",
       "    </tr>\n",
       "    <tr>\n",
       "      <th>1</th>\n",
       "      <td>ir_patch/14605_19700101004759437_CCR5569_1_ir_...</td>\n",
       "      <td>CCR5569</td>\n",
       "      <td>CCR5569</td>\n",
       "    </tr>\n",
       "    <tr>\n",
       "      <th>2</th>\n",
       "      <td>ir_patch/14266_19700101121952907_AT1539_1_ir_p...</td>\n",
       "      <td>AT1539</td>\n",
       "      <td></td>\n",
       "    </tr>\n",
       "    <tr>\n",
       "      <th>3</th>\n",
       "      <td>ir_patch/14590_19700101221725855_CBF4426_1_ir_...</td>\n",
       "      <td>CBF4426</td>\n",
       "      <td></td>\n",
       "    </tr>\n",
       "    <tr>\n",
       "      <th>4</th>\n",
       "      <td>ir_patch/16439_19700101122520938_PVY8368_1_ir_...</td>\n",
       "      <td>PVY8368</td>\n",
       "      <td>PU8368</td>\n",
       "    </tr>\n",
       "  </tbody>\n",
       "</table>\n",
       "</div>"
      ],
      "text/plain": [
       "                                          image_name      VRN recognition\n",
       "0  ir_patch/14574_19700101213907739_CBX797_1_ir_p...   CBX797     EBX797E\n",
       "1  ir_patch/14605_19700101004759437_CCR5569_1_ir_...  CCR5569     CCR5569\n",
       "2  ir_patch/14266_19700101121952907_AT1539_1_ir_p...   AT1539            \n",
       "3  ir_patch/14590_19700101221725855_CBF4426_1_ir_...  CBF4426            \n",
       "4  ir_patch/16439_19700101122520938_PVY8368_1_ir_...  PVY8368      PU8368"
      ]
     },
     "execution_count": 21,
     "metadata": {},
     "output_type": "execute_result"
    }
   ],
   "source": [
    "result.head()"
   ]
  },
  {
   "cell_type": "code",
   "execution_count": 23,
   "metadata": {},
   "outputs": [],
   "source": [
    "# save the recognitions as a csv file\n",
    "result.to_csv('Recognition by tesseract.csv',index=False)"
   ]
  },
  {
   "cell_type": "markdown",
   "metadata": {},
   "source": [
    "We have tried other threshold methods, adding morphology(erosion + dilation), rotation, different parameters for the blurring and thresholding. Above is the best we could get. "
   ]
  },
  {
   "cell_type": "code",
   "execution_count": null,
   "metadata": {},
   "outputs": [],
   "source": [
    "# in this example, we first cropped the images, then rotate it, and crop it again. We also performed normalization\n",
    "# and morphology transformation to remove background. We saved the processed images and used Tesseract to recognize\n",
    "# the plates. However, the result was not better than what we got with the previously mentioned method. \n",
    "for name in name_list:\n",
    "    # load image\n",
    "    image = cv2.imread(name)\n",
    "    # crop image\n",
    "    grayscale_image = cv2.cvtColor(image, cv2.COLOR_BGR2GRAY)\n",
    "    thresh_value, threshold_image = cv2.threshold(grayscale_image, 0, 255, cv2.THRESH_BINARY | cv2.THRESH_OTSU)\n",
    "    contours, _ = cv2.findContours(threshold_image, cv2.RETR_EXTERNAL, cv2.CHAIN_APPROX_SIMPLE)\n",
    "    sorted_contours = sorted(contours, key=cv2.contourArea, reverse=True)\n",
    "    x, y, w, h = cv2.boundingRect(sorted_contours[0])\n",
    "    cropped_plate_color = image[y:y+h, x:x+w]\n",
    "    # rotate image\n",
    "    cropped_plate = grayscale_image[y:y+h, x:x+w]\n",
    "    zero_centered_image = cropped_plate - np.mean(cropped_plate)\n",
    "    sinogram = radon(zero_centered_image, circle=False)\n",
    "    rotation_angle = np.argmax(sum(abs(sinogram)))\n",
    "    image_rotated_color = rotate(cropped_plate_color, -rotation_angle+90, resize=True, cval=0)\n",
    "    # normailze image\n",
    "    norm_image = cv2.normalize(image_rotated_color, None, alpha = 0, beta = 255, norm_type = cv2.NORM_MINMAX, dtype = cv2.CV_32F)\n",
    "    norm_image = norm_image.astype(np.uint8)\n",
    "    # remove background\n",
    "    kernel = cv2.getStructuringElement(cv2.MORPH_CROSS,(3,3))\n",
    "    eroded = cv2.erode(norm_image,kernel)\n",
    "    dilated = cv2.dilate(eroded, kernel)\n",
    "    # crop image again\n",
    "    thresh_value, threshold_image = cv2.threshold(dilated, 0, 255, cv2.THRESH_BINARY | cv2.THRESH_OTSU)\n",
    "    grayscale_image2 = cv2.cvtColor(threshold_image, cv2.COLOR_BGR2GRAY)\n",
    "    contours, _ = cv2.findContours(grayscale_image2, cv2.RETR_EXTERNAL, cv2.CHAIN_APPROX_SIMPLE)\n",
    "    sorted_contours = sorted(contours, key=cv2.contourArea, reverse=True)\n",
    "    x, y, w, h = cv2.boundingRect(sorted_contours[0])\n",
    "    cropped_plate2 = dilated[y:y+h, x:x+w]\n",
    "    # save image\n",
    "    newname = 'processed/' + name\n",
    "    plt.imsave(newname,cropped_plate2)"
   ]
  },
  {
   "cell_type": "markdown",
   "metadata": {},
   "source": [
    "## try another library: easyocr"
   ]
  },
  {
   "cell_type": "markdown",
   "metadata": {},
   "source": [
    "### try on one image"
   ]
  },
  {
   "cell_type": "code",
   "execution_count": 24,
   "metadata": {},
   "outputs": [
    {
     "data": {
      "text/plain": [
       "<matplotlib.image.AxesImage at 0x7ff87d00b6a0>"
      ]
     },
     "execution_count": 24,
     "metadata": {},
     "output_type": "execute_result"
    },
    {
     "data": {
      "image/png": "[encoded data removed]",
      "text/plain": [
       "<Figure size 432x288 with 1 Axes>"
      ]
     },
     "metadata": {
      "needs_background": "light"
     },
     "output_type": "display_data"
    }
   ],
   "source": [
    "# read image\n",
    "image = cv2.imread(name_list[1])\n",
    "\n",
    "# convert to grayscale\n",
    "grayscale_image = cv2.cvtColor(image, cv2.COLOR_BGR2GRAY)\n",
    "\n",
    "# threshold using OTSU method\n",
    "thresh_value, threshold_image = cv2.threshold(grayscale_image, 0, 255, cv2.THRESH_BINARY | cv2.THRESH_OTSU)\n",
    "\n",
    "# crop image\n",
    "contours, _ = cv2.findContours(threshold_image, cv2.RETR_EXTERNAL, cv2.CHAIN_APPROX_SIMPLE)\n",
    "sorted_contours = sorted(contours, key=cv2.contourArea, reverse=True)\n",
    "x, y, w, h = cv2.boundingRect(sorted_contours[0])\n",
    "cropped_plate = image[y:y+h, x:x+w]\n",
    "plt.imshow(cropped_plate, cmap='gray')"
   ]
  },
  {
   "cell_type": "code",
   "execution_count": 25,
   "metadata": {},
   "outputs": [
    {
     "name": "stderr",
     "output_type": "stream",
     "text": [
      "CUDA not available - defaulting to CPU. Note: This module is much faster with a GPU.\n"
     ]
    },
    {
     "data": {
      "text/plain": [
       "['CCR5569']"
      ]
     },
     "execution_count": 25,
     "metadata": {},
     "output_type": "execute_result"
    }
   ],
   "source": [
    "# extract text using easyocr\n",
    "reader = easyocr.Reader(['en'])\n",
    "result = reader.readtext(image,detail = 0)\n",
    "result"
   ]
  },
  {
   "cell_type": "markdown",
   "metadata": {},
   "source": [
    "### apply to all image"
   ]
  },
  {
   "cell_type": "code",
   "execution_count": 26,
   "metadata": {},
   "outputs": [
    {
     "name": "stderr",
     "output_type": "stream",
     "text": [
      "CUDA not available - defaulting to CPU. Note: This module is much faster with a GPU.\n",
      "CUDA not available - defaulting to CPU. Note: This module is much faster with a GPU.\n",
      "CUDA not available - defaulting to CPU. Note: This module is much faster with a GPU.\n",
      "CUDA not available - defaulting to CPU. Note: This module is much faster with a GPU.\n",
      "CUDA not available - defaulting to CPU. Note: This module is much faster with a GPU.\n",
      "CUDA not available - defaulting to CPU. Note: This module is much faster with a GPU.\n",
      "CUDA not available - defaulting to CPU. Note: This module is much faster with a GPU.\n",
      "CUDA not available - defaulting to CPU. Note: This module is much faster with a GPU.\n",
      "CUDA not available - defaulting to CPU. Note: This module is much faster with a GPU.\n",
      "CUDA not available - defaulting to CPU. Note: This module is much faster with a GPU.\n",
      "CUDA not available - defaulting to CPU. Note: This module is much faster with a GPU.\n",
      "CUDA not available - defaulting to CPU. Note: This module is much faster with a GPU.\n",
      "CUDA not available - defaulting to CPU. Note: This module is much faster with a GPU.\n",
      "CUDA not available - defaulting to CPU. Note: This module is much faster with a GPU.\n",
      "CUDA not available - defaulting to CPU. Note: This module is much faster with a GPU.\n",
      "CUDA not available - defaulting to CPU. Note: This module is much faster with a GPU.\n",
      "CUDA not available - defaulting to CPU. Note: This module is much faster with a GPU.\n",
      "CUDA not available - defaulting to CPU. Note: This module is much faster with a GPU.\n",
      "CUDA not available - defaulting to CPU. Note: This module is much faster with a GPU.\n",
      "CUDA not available - defaulting to CPU. Note: This module is much faster with a GPU.\n"
     ]
    }
   ],
   "source": [
    "result = plates.copy()\n",
    "for name in name_list:\n",
    "    # load image\n",
    "    image = cv2.imread(name)\n",
    "    # crop image\n",
    "    grayscale_image = cv2.cvtColor(image, cv2.COLOR_BGR2GRAY)\n",
    "    thresh_value, threshold_image = cv2.threshold(grayscale_image, 0, 255, cv2.THRESH_BINARY | cv2.THRESH_OTSU)\n",
    "    contours, _ = cv2.findContours(threshold_image, cv2.RETR_EXTERNAL, cv2.CHAIN_APPROX_SIMPLE)\n",
    "    sorted_contours = sorted(contours, key=cv2.contourArea, reverse=True)\n",
    "    x, y, w, h = cv2.boundingRect(sorted_contours[0])\n",
    "    cropped_plate = image[y:y+h, x:x+w]\n",
    "    # extract text\n",
    "    reader = easyocr.Reader(['en'])\n",
    "    recognition = reader.readtext(cropped_plate, detail = 0)\n",
    "    # save the result\n",
    "    if recognition != []:\n",
    "        text = recognition[0]\n",
    "        text = text.upper()\n",
    "        text = re.sub('[^A-Za-z0-9]+', '', text)\n",
    "        result.loc[plates['image_name']==name,'recognition'] = text"
   ]
  },
  {
   "cell_type": "code",
   "execution_count": 27,
   "metadata": {},
   "outputs": [
    {
     "data": {
      "text/html": [
       "<div>\n",
       "<style scoped>\n",
       "    .dataframe tbody tr th:only-of-type {\n",
       "        vertical-align: middle;\n",
       "    }\n",
       "\n",
       "    .dataframe tbody tr th {\n",
       "        vertical-align: top;\n",
       "    }\n",
       "\n",
       "    .dataframe thead th {\n",
       "        text-align: right;\n",
       "    }\n",
       "</style>\n",
       "<table border=\"1\" class=\"dataframe\">\n",
       "  <thead>\n",
       "    <tr style=\"text-align: right;\">\n",
       "      <th></th>\n",
       "      <th>image_name</th>\n",
       "      <th>VRN</th>\n",
       "      <th>recognition</th>\n",
       "    </tr>\n",
       "  </thead>\n",
       "  <tbody>\n",
       "    <tr>\n",
       "      <th>0</th>\n",
       "      <td>ir_patch/14574_19700101213907739_CBX797_1_ir_p...</td>\n",
       "      <td>CBX797</td>\n",
       "      <td>CBX797</td>\n",
       "    </tr>\n",
       "    <tr>\n",
       "      <th>1</th>\n",
       "      <td>ir_patch/14605_19700101004759437_CCR5569_1_ir_...</td>\n",
       "      <td>CCR5569</td>\n",
       "      <td>CCR5569</td>\n",
       "    </tr>\n",
       "    <tr>\n",
       "      <th>2</th>\n",
       "      <td>ir_patch/14266_19700101121952907_AT1539_1_ir_p...</td>\n",
       "      <td>AT1539</td>\n",
       "      <td>T539</td>\n",
       "    </tr>\n",
       "    <tr>\n",
       "      <th>3</th>\n",
       "      <td>ir_patch/14590_19700101221725855_CBF4426_1_ir_...</td>\n",
       "      <td>CBF4426</td>\n",
       "      <td>CBF4426</td>\n",
       "    </tr>\n",
       "    <tr>\n",
       "      <th>4</th>\n",
       "      <td>ir_patch/16439_19700101122520938_PVY8368_1_ir_...</td>\n",
       "      <td>PVY8368</td>\n",
       "      <td>PVY8368</td>\n",
       "    </tr>\n",
       "  </tbody>\n",
       "</table>\n",
       "</div>"
      ],
      "text/plain": [
       "                                          image_name      VRN recognition\n",
       "0  ir_patch/14574_19700101213907739_CBX797_1_ir_p...   CBX797      CBX797\n",
       "1  ir_patch/14605_19700101004759437_CCR5569_1_ir_...  CCR5569     CCR5569\n",
       "2  ir_patch/14266_19700101121952907_AT1539_1_ir_p...   AT1539        T539\n",
       "3  ir_patch/14590_19700101221725855_CBF4426_1_ir_...  CBF4426     CBF4426\n",
       "4  ir_patch/16439_19700101122520938_PVY8368_1_ir_...  PVY8368     PVY8368"
      ]
     },
     "execution_count": 27,
     "metadata": {},
     "output_type": "execute_result"
    }
   ],
   "source": [
    "result.head()"
   ]
  },
  {
   "cell_type": "code",
   "execution_count": 28,
   "metadata": {},
   "outputs": [],
   "source": [
    "# save the result as a csv file.\n",
    "result.to_csv('Recognitions by easyocr.csv',index=False)"
   ]
  },
  {
   "cell_type": "markdown",
   "metadata": {},
   "source": [
    "## get the accuracy score for the result obtained by easyocr"
   ]
  },
  {
   "cell_type": "code",
   "execution_count": 96,
   "metadata": {},
   "outputs": [],
   "source": [
    "# load the recognitions\n",
    "df = pd.read_csv('Recognitions by easyocr.csv')"
   ]
  },
  {
   "cell_type": "code",
   "execution_count": 97,
   "metadata": {},
   "outputs": [
    {
     "data": {
      "text/html": [
       "<div>\n",
       "<style scoped>\n",
       "    .dataframe tbody tr th:only-of-type {\n",
       "        vertical-align: middle;\n",
       "    }\n",
       "\n",
       "    .dataframe tbody tr th {\n",
       "        vertical-align: top;\n",
       "    }\n",
       "\n",
       "    .dataframe thead th {\n",
       "        text-align: right;\n",
       "    }\n",
       "</style>\n",
       "<table border=\"1\" class=\"dataframe\">\n",
       "  <thead>\n",
       "    <tr style=\"text-align: right;\">\n",
       "      <th></th>\n",
       "      <th>image_name</th>\n",
       "      <th>VRN</th>\n",
       "      <th>recognition</th>\n",
       "    </tr>\n",
       "  </thead>\n",
       "  <tbody>\n",
       "    <tr>\n",
       "      <th>0</th>\n",
       "      <td>ir_patch/14574_19700101213907739_CBX797_1_ir_p...</td>\n",
       "      <td>CBX797</td>\n",
       "      <td>CBX797</td>\n",
       "    </tr>\n",
       "    <tr>\n",
       "      <th>1</th>\n",
       "      <td>ir_patch/14605_19700101004759437_CCR5569_1_ir_...</td>\n",
       "      <td>CCR5569</td>\n",
       "      <td>CCR5569</td>\n",
       "    </tr>\n",
       "    <tr>\n",
       "      <th>2</th>\n",
       "      <td>ir_patch/14266_19700101121952907_AT1539_1_ir_p...</td>\n",
       "      <td>AT1539</td>\n",
       "      <td>539</td>\n",
       "    </tr>\n",
       "    <tr>\n",
       "      <th>3</th>\n",
       "      <td>ir_patch/14590_19700101221725855_CBF4426_1_ir_...</td>\n",
       "      <td>CBF4426</td>\n",
       "      <td>CBF4426</td>\n",
       "    </tr>\n",
       "    <tr>\n",
       "      <th>4</th>\n",
       "      <td>ir_patch/16439_19700101122520938_PVY8368_1_ir_...</td>\n",
       "      <td>PVY8368</td>\n",
       "      <td>PVY8368</td>\n",
       "    </tr>\n",
       "  </tbody>\n",
       "</table>\n",
       "</div>"
      ],
      "text/plain": [
       "                                          image_name      VRN recognition\n",
       "0  ir_patch/14574_19700101213907739_CBX797_1_ir_p...   CBX797      CBX797\n",
       "1  ir_patch/14605_19700101004759437_CCR5569_1_ir_...  CCR5569     CCR5569\n",
       "2  ir_patch/14266_19700101121952907_AT1539_1_ir_p...   AT1539         539\n",
       "3  ir_patch/14590_19700101221725855_CBF4426_1_ir_...  CBF4426     CBF4426\n",
       "4  ir_patch/16439_19700101122520938_PVY8368_1_ir_...  PVY8368     PVY8368"
      ]
     },
     "execution_count": 97,
     "metadata": {},
     "output_type": "execute_result"
    }
   ],
   "source": [
    "df.head()"
   ]
  },
  {
   "cell_type": "code",
   "execution_count": 98,
   "metadata": {},
   "outputs": [
    {
     "name": "stdout",
     "output_type": "stream",
     "text": [
      "<class 'pandas.core.frame.DataFrame'>\n",
      "RangeIndex: 1821 entries, 0 to 1820\n",
      "Data columns (total 3 columns):\n",
      " #   Column       Non-Null Count  Dtype \n",
      "---  ------       --------------  ----- \n",
      " 0   image_name   1821 non-null   object\n",
      " 1   VRN          1821 non-null   object\n",
      " 2   recognition  1813 non-null   object\n",
      "dtypes: object(3)\n",
      "memory usage: 42.8+ KB\n"
     ]
    }
   ],
   "source": [
    "df.info()"
   ]
  },
  {
   "cell_type": "code",
   "execution_count": 99,
   "metadata": {},
   "outputs": [
    {
     "data": {
      "text/plain": [
       "0.3833058758923668"
      ]
     },
     "execution_count": 99,
     "metadata": {},
     "output_type": "execute_result"
    }
   ],
   "source": [
    "df1 = df.copy()\n",
    "# if it is an exact match, return True\n",
    "df1['match'] = df1['VRN'] == df1['recognition']\n",
    "# calculate the percentage of exact matches\n",
    "df1.match.sum()/df1.shape[0]"
   ]
  },
  {
   "cell_type": "markdown",
   "metadata": {},
   "source": [
    "### calculate accuracy score for each plate: easyocr"
   ]
  },
  {
   "cell_type": "code",
   "execution_count": 100,
   "metadata": {},
   "outputs": [],
   "source": [
    "# fill na with a space\n",
    "df1.fillna(' ', inplace=True)"
   ]
  },
  {
   "cell_type": "markdown",
   "metadata": {},
   "source": [
    "\"difflib\" has a function ratio() calculating the ratio of matches between two strings. However, for some reason, this function is not reliable. So we defined a function utilzing the get_matching_blocks() provided by this package."
   ]
  },
  {
   "cell_type": "code",
   "execution_count": 101,
   "metadata": {},
   "outputs": [],
   "source": [
    "# define a function to calculate accurary score\n",
    "def get_accuracy(row):\n",
    "    if row['recognition'] == ' ':\n",
    "        accuracy = 0\n",
    "    else:\n",
    "        matches = dl.SequenceMatcher(None, row['VRN'], row['recognition']).get_matching_blocks()\n",
    "        match_count = [x[-1] for x in matches]\n",
    "        accuracy = sum(match_count)/len(row['VRN'])\n",
    "    return accuracy"
   ]
  },
  {
   "cell_type": "code",
   "execution_count": 102,
   "metadata": {},
   "outputs": [],
   "source": [
    "# calculate accuracy score for each plate\n",
    "df1['accuracy'] = df1.apply(lambda row: get_accuracy(row),axis=1)"
   ]
  },
  {
   "cell_type": "code",
   "execution_count": 103,
   "metadata": {},
   "outputs": [
    {
     "data": {
      "text/html": [
       "<div>\n",
       "<style scoped>\n",
       "    .dataframe tbody tr th:only-of-type {\n",
       "        vertical-align: middle;\n",
       "    }\n",
       "\n",
       "    .dataframe tbody tr th {\n",
       "        vertical-align: top;\n",
       "    }\n",
       "\n",
       "    .dataframe thead th {\n",
       "        text-align: right;\n",
       "    }\n",
       "</style>\n",
       "<table border=\"1\" class=\"dataframe\">\n",
       "  <thead>\n",
       "    <tr style=\"text-align: right;\">\n",
       "      <th></th>\n",
       "      <th>image_name</th>\n",
       "      <th>VRN</th>\n",
       "      <th>recognition</th>\n",
       "      <th>match</th>\n",
       "      <th>accuracy</th>\n",
       "    </tr>\n",
       "  </thead>\n",
       "  <tbody>\n",
       "    <tr>\n",
       "      <th>0</th>\n",
       "      <td>ir_patch/14574_19700101213907739_CBX797_1_ir_p...</td>\n",
       "      <td>CBX797</td>\n",
       "      <td>CBX797</td>\n",
       "      <td>True</td>\n",
       "      <td>1.0</td>\n",
       "    </tr>\n",
       "    <tr>\n",
       "      <th>1</th>\n",
       "      <td>ir_patch/14605_19700101004759437_CCR5569_1_ir_...</td>\n",
       "      <td>CCR5569</td>\n",
       "      <td>CCR5569</td>\n",
       "      <td>True</td>\n",
       "      <td>1.0</td>\n",
       "    </tr>\n",
       "    <tr>\n",
       "      <th>2</th>\n",
       "      <td>ir_patch/14266_19700101121952907_AT1539_1_ir_p...</td>\n",
       "      <td>AT1539</td>\n",
       "      <td>539</td>\n",
       "      <td>False</td>\n",
       "      <td>0.5</td>\n",
       "    </tr>\n",
       "    <tr>\n",
       "      <th>3</th>\n",
       "      <td>ir_patch/14590_19700101221725855_CBF4426_1_ir_...</td>\n",
       "      <td>CBF4426</td>\n",
       "      <td>CBF4426</td>\n",
       "      <td>True</td>\n",
       "      <td>1.0</td>\n",
       "    </tr>\n",
       "    <tr>\n",
       "      <th>4</th>\n",
       "      <td>ir_patch/16439_19700101122520938_PVY8368_1_ir_...</td>\n",
       "      <td>PVY8368</td>\n",
       "      <td>PVY8368</td>\n",
       "      <td>True</td>\n",
       "      <td>1.0</td>\n",
       "    </tr>\n",
       "  </tbody>\n",
       "</table>\n",
       "</div>"
      ],
      "text/plain": [
       "                                          image_name      VRN recognition  \\\n",
       "0  ir_patch/14574_19700101213907739_CBX797_1_ir_p...   CBX797      CBX797   \n",
       "1  ir_patch/14605_19700101004759437_CCR5569_1_ir_...  CCR5569     CCR5569   \n",
       "2  ir_patch/14266_19700101121952907_AT1539_1_ir_p...   AT1539         539   \n",
       "3  ir_patch/14590_19700101221725855_CBF4426_1_ir_...  CBF4426     CBF4426   \n",
       "4  ir_patch/16439_19700101122520938_PVY8368_1_ir_...  PVY8368     PVY8368   \n",
       "\n",
       "   match  accuracy  \n",
       "0   True       1.0  \n",
       "1   True       1.0  \n",
       "2  False       0.5  \n",
       "3   True       1.0  \n",
       "4   True       1.0  "
      ]
     },
     "execution_count": 103,
     "metadata": {},
     "output_type": "execute_result"
    }
   ],
   "source": [
    "df1.head()"
   ]
  },
  {
   "cell_type": "code",
   "execution_count": 104,
   "metadata": {},
   "outputs": [
    {
     "data": {
      "text/plain": [
       "count    1821.000000\n",
       "mean        0.817381\n",
       "std         0.223074\n",
       "min         0.000000\n",
       "25%         0.714286\n",
       "50%         0.857143\n",
       "75%         1.000000\n",
       "max         1.000000\n",
       "Name: accuracy, dtype: float64"
      ]
     },
     "execution_count": 104,
     "metadata": {},
     "output_type": "execute_result"
    }
   ],
   "source": [
    "# statistics summary of the accurary\n",
    "df1['accuracy'].describe()"
   ]
  },
  {
   "cell_type": "code",
   "execution_count": 105,
   "metadata": {},
   "outputs": [],
   "source": [
    "# create a list of all character of the VRN.\n",
    "df1['all_char'] = df1['VRN'].apply(lambda x:[char for char in x])"
   ]
  },
  {
   "cell_type": "code",
   "execution_count": 106,
   "metadata": {},
   "outputs": [
    {
     "data": {
      "text/html": [
       "<div>\n",
       "<style scoped>\n",
       "    .dataframe tbody tr th:only-of-type {\n",
       "        vertical-align: middle;\n",
       "    }\n",
       "\n",
       "    .dataframe tbody tr th {\n",
       "        vertical-align: top;\n",
       "    }\n",
       "\n",
       "    .dataframe thead th {\n",
       "        text-align: right;\n",
       "    }\n",
       "</style>\n",
       "<table border=\"1\" class=\"dataframe\">\n",
       "  <thead>\n",
       "    <tr style=\"text-align: right;\">\n",
       "      <th></th>\n",
       "      <th>image_name</th>\n",
       "      <th>VRN</th>\n",
       "      <th>recognition</th>\n",
       "      <th>match</th>\n",
       "      <th>accuracy</th>\n",
       "      <th>all_char</th>\n",
       "    </tr>\n",
       "  </thead>\n",
       "  <tbody>\n",
       "    <tr>\n",
       "      <th>0</th>\n",
       "      <td>ir_patch/14574_19700101213907739_CBX797_1_ir_p...</td>\n",
       "      <td>CBX797</td>\n",
       "      <td>CBX797</td>\n",
       "      <td>True</td>\n",
       "      <td>1.0</td>\n",
       "      <td>[C, B, X, 7, 9, 7]</td>\n",
       "    </tr>\n",
       "    <tr>\n",
       "      <th>1</th>\n",
       "      <td>ir_patch/14605_19700101004759437_CCR5569_1_ir_...</td>\n",
       "      <td>CCR5569</td>\n",
       "      <td>CCR5569</td>\n",
       "      <td>True</td>\n",
       "      <td>1.0</td>\n",
       "      <td>[C, C, R, 5, 5, 6, 9]</td>\n",
       "    </tr>\n",
       "    <tr>\n",
       "      <th>2</th>\n",
       "      <td>ir_patch/14266_19700101121952907_AT1539_1_ir_p...</td>\n",
       "      <td>AT1539</td>\n",
       "      <td>539</td>\n",
       "      <td>False</td>\n",
       "      <td>0.5</td>\n",
       "      <td>[A, T, 1, 5, 3, 9]</td>\n",
       "    </tr>\n",
       "    <tr>\n",
       "      <th>3</th>\n",
       "      <td>ir_patch/14590_19700101221725855_CBF4426_1_ir_...</td>\n",
       "      <td>CBF4426</td>\n",
       "      <td>CBF4426</td>\n",
       "      <td>True</td>\n",
       "      <td>1.0</td>\n",
       "      <td>[C, B, F, 4, 4, 2, 6]</td>\n",
       "    </tr>\n",
       "    <tr>\n",
       "      <th>4</th>\n",
       "      <td>ir_patch/16439_19700101122520938_PVY8368_1_ir_...</td>\n",
       "      <td>PVY8368</td>\n",
       "      <td>PVY8368</td>\n",
       "      <td>True</td>\n",
       "      <td>1.0</td>\n",
       "      <td>[P, V, Y, 8, 3, 6, 8]</td>\n",
       "    </tr>\n",
       "  </tbody>\n",
       "</table>\n",
       "</div>"
      ],
      "text/plain": [
       "                                          image_name      VRN recognition  \\\n",
       "0  ir_patch/14574_19700101213907739_CBX797_1_ir_p...   CBX797      CBX797   \n",
       "1  ir_patch/14605_19700101004759437_CCR5569_1_ir_...  CCR5569     CCR5569   \n",
       "2  ir_patch/14266_19700101121952907_AT1539_1_ir_p...   AT1539         539   \n",
       "3  ir_patch/14590_19700101221725855_CBF4426_1_ir_...  CBF4426     CBF4426   \n",
       "4  ir_patch/16439_19700101122520938_PVY8368_1_ir_...  PVY8368     PVY8368   \n",
       "\n",
       "   match  accuracy               all_char  \n",
       "0   True       1.0     [C, B, X, 7, 9, 7]  \n",
       "1   True       1.0  [C, C, R, 5, 5, 6, 9]  \n",
       "2  False       0.5     [A, T, 1, 5, 3, 9]  \n",
       "3   True       1.0  [C, B, F, 4, 4, 2, 6]  \n",
       "4   True       1.0  [P, V, Y, 8, 3, 6, 8]  "
      ]
     },
     "execution_count": 106,
     "metadata": {},
     "output_type": "execute_result"
    }
   ],
   "source": [
    "df1.head()"
   ]
  },
  {
   "cell_type": "code",
   "execution_count": 107,
   "metadata": {},
   "outputs": [],
   "source": [
    "# define a function to get a list of the correctly recognized characters\n",
    "def get_match_char(row):\n",
    "    all_match_char = []\n",
    "    matches = dl.SequenceMatcher(None, row['VRN'], row['recognition']).get_matching_blocks()\n",
    "    VRN = row['VRN']\n",
    "    mylist = [match for match in matches if match[-1]!=0]\n",
    "    for match in mylist:\n",
    "        start = match[0]\n",
    "        stop = match[0] + match[2]\n",
    "        match_str = VRN[start:stop]\n",
    "        match_char = [char for char in match_str]\n",
    "        all_match_char += match_char\n",
    "    return all_match_char"
   ]
  },
  {
   "cell_type": "code",
   "execution_count": 108,
   "metadata": {},
   "outputs": [],
   "source": [
    "# use the defined function to create a list of matching characters.\n",
    "df1['match_char'] = df1.apply(lambda row: get_match_char(row), axis=1)"
   ]
  },
  {
   "cell_type": "code",
   "execution_count": 109,
   "metadata": {},
   "outputs": [
    {
     "data": {
      "text/html": [
       "<div>\n",
       "<style scoped>\n",
       "    .dataframe tbody tr th:only-of-type {\n",
       "        vertical-align: middle;\n",
       "    }\n",
       "\n",
       "    .dataframe tbody tr th {\n",
       "        vertical-align: top;\n",
       "    }\n",
       "\n",
       "    .dataframe thead th {\n",
       "        text-align: right;\n",
       "    }\n",
       "</style>\n",
       "<table border=\"1\" class=\"dataframe\">\n",
       "  <thead>\n",
       "    <tr style=\"text-align: right;\">\n",
       "      <th></th>\n",
       "      <th>image_name</th>\n",
       "      <th>VRN</th>\n",
       "      <th>recognition</th>\n",
       "      <th>match</th>\n",
       "      <th>accuracy</th>\n",
       "      <th>all_char</th>\n",
       "      <th>match_char</th>\n",
       "    </tr>\n",
       "  </thead>\n",
       "  <tbody>\n",
       "    <tr>\n",
       "      <th>0</th>\n",
       "      <td>ir_patch/14574_19700101213907739_CBX797_1_ir_p...</td>\n",
       "      <td>CBX797</td>\n",
       "      <td>CBX797</td>\n",
       "      <td>True</td>\n",
       "      <td>1.000000</td>\n",
       "      <td>[C, B, X, 7, 9, 7]</td>\n",
       "      <td>[C, B, X, 7, 9, 7]</td>\n",
       "    </tr>\n",
       "    <tr>\n",
       "      <th>1</th>\n",
       "      <td>ir_patch/14605_19700101004759437_CCR5569_1_ir_...</td>\n",
       "      <td>CCR5569</td>\n",
       "      <td>CCR5569</td>\n",
       "      <td>True</td>\n",
       "      <td>1.000000</td>\n",
       "      <td>[C, C, R, 5, 5, 6, 9]</td>\n",
       "      <td>[C, C, R, 5, 5, 6, 9]</td>\n",
       "    </tr>\n",
       "    <tr>\n",
       "      <th>2</th>\n",
       "      <td>ir_patch/14266_19700101121952907_AT1539_1_ir_p...</td>\n",
       "      <td>AT1539</td>\n",
       "      <td>539</td>\n",
       "      <td>False</td>\n",
       "      <td>0.500000</td>\n",
       "      <td>[A, T, 1, 5, 3, 9]</td>\n",
       "      <td>[5, 3, 9]</td>\n",
       "    </tr>\n",
       "    <tr>\n",
       "      <th>3</th>\n",
       "      <td>ir_patch/14590_19700101221725855_CBF4426_1_ir_...</td>\n",
       "      <td>CBF4426</td>\n",
       "      <td>CBF4426</td>\n",
       "      <td>True</td>\n",
       "      <td>1.000000</td>\n",
       "      <td>[C, B, F, 4, 4, 2, 6]</td>\n",
       "      <td>[C, B, F, 4, 4, 2, 6]</td>\n",
       "    </tr>\n",
       "    <tr>\n",
       "      <th>4</th>\n",
       "      <td>ir_patch/16439_19700101122520938_PVY8368_1_ir_...</td>\n",
       "      <td>PVY8368</td>\n",
       "      <td>PVY8368</td>\n",
       "      <td>True</td>\n",
       "      <td>1.000000</td>\n",
       "      <td>[P, V, Y, 8, 3, 6, 8]</td>\n",
       "      <td>[P, V, Y, 8, 3, 6, 8]</td>\n",
       "    </tr>\n",
       "    <tr>\n",
       "      <th>5</th>\n",
       "      <td>ir_patch/16649_19700101184032831_PNA8367_1_ir_...</td>\n",
       "      <td>PNA8367</td>\n",
       "      <td>PNA8367</td>\n",
       "      <td>True</td>\n",
       "      <td>1.000000</td>\n",
       "      <td>[P, N, A, 8, 3, 6, 7]</td>\n",
       "      <td>[P, N, A, 8, 3, 6, 7]</td>\n",
       "    </tr>\n",
       "    <tr>\n",
       "      <th>6</th>\n",
       "      <td>ir_patch/14765_19700101131613659_PVM4381_1_ir_...</td>\n",
       "      <td>PVM4381</td>\n",
       "      <td>PVAJE</td>\n",
       "      <td>False</td>\n",
       "      <td>0.285714</td>\n",
       "      <td>[P, V, M, 4, 3, 8, 1]</td>\n",
       "      <td>[P, V]</td>\n",
       "    </tr>\n",
       "    <tr>\n",
       "      <th>7</th>\n",
       "      <td>ir_patch/14864_19700101172545117_PFE1103_1_ir_...</td>\n",
       "      <td>PFE1103</td>\n",
       "      <td>PFEL1O3</td>\n",
       "      <td>False</td>\n",
       "      <td>0.714286</td>\n",
       "      <td>[P, F, E, 1, 1, 0, 3]</td>\n",
       "      <td>[P, F, E, 1, 3]</td>\n",
       "    </tr>\n",
       "    <tr>\n",
       "      <th>8</th>\n",
       "      <td>ir_patch/14250_19700101120514185_PYL1367_1_ir_...</td>\n",
       "      <td>PYL1367</td>\n",
       "      <td>FYL136</td>\n",
       "      <td>False</td>\n",
       "      <td>0.714286</td>\n",
       "      <td>[P, Y, L, 1, 3, 6, 7]</td>\n",
       "      <td>[Y, L, 1, 3, 6]</td>\n",
       "    </tr>\n",
       "    <tr>\n",
       "      <th>9</th>\n",
       "      <td>ir_patch/14134_19700101194928245_BHA6172_1_ir_...</td>\n",
       "      <td>BHA6172</td>\n",
       "      <td>BHA6172</td>\n",
       "      <td>True</td>\n",
       "      <td>1.000000</td>\n",
       "      <td>[B, H, A, 6, 1, 7, 2]</td>\n",
       "      <td>[B, H, A, 6, 1, 7, 2]</td>\n",
       "    </tr>\n",
       "  </tbody>\n",
       "</table>\n",
       "</div>"
      ],
      "text/plain": [
       "                                          image_name      VRN recognition  \\\n",
       "0  ir_patch/14574_19700101213907739_CBX797_1_ir_p...   CBX797      CBX797   \n",
       "1  ir_patch/14605_19700101004759437_CCR5569_1_ir_...  CCR5569     CCR5569   \n",
       "2  ir_patch/14266_19700101121952907_AT1539_1_ir_p...   AT1539         539   \n",
       "3  ir_patch/14590_19700101221725855_CBF4426_1_ir_...  CBF4426     CBF4426   \n",
       "4  ir_patch/16439_19700101122520938_PVY8368_1_ir_...  PVY8368     PVY8368   \n",
       "5  ir_patch/16649_19700101184032831_PNA8367_1_ir_...  PNA8367     PNA8367   \n",
       "6  ir_patch/14765_19700101131613659_PVM4381_1_ir_...  PVM4381       PVAJE   \n",
       "7  ir_patch/14864_19700101172545117_PFE1103_1_ir_...  PFE1103     PFEL1O3   \n",
       "8  ir_patch/14250_19700101120514185_PYL1367_1_ir_...  PYL1367      FYL136   \n",
       "9  ir_patch/14134_19700101194928245_BHA6172_1_ir_...  BHA6172     BHA6172   \n",
       "\n",
       "   match  accuracy               all_char             match_char  \n",
       "0   True  1.000000     [C, B, X, 7, 9, 7]     [C, B, X, 7, 9, 7]  \n",
       "1   True  1.000000  [C, C, R, 5, 5, 6, 9]  [C, C, R, 5, 5, 6, 9]  \n",
       "2  False  0.500000     [A, T, 1, 5, 3, 9]              [5, 3, 9]  \n",
       "3   True  1.000000  [C, B, F, 4, 4, 2, 6]  [C, B, F, 4, 4, 2, 6]  \n",
       "4   True  1.000000  [P, V, Y, 8, 3, 6, 8]  [P, V, Y, 8, 3, 6, 8]  \n",
       "5   True  1.000000  [P, N, A, 8, 3, 6, 7]  [P, N, A, 8, 3, 6, 7]  \n",
       "6  False  0.285714  [P, V, M, 4, 3, 8, 1]                 [P, V]  \n",
       "7  False  0.714286  [P, F, E, 1, 1, 0, 3]        [P, F, E, 1, 3]  \n",
       "8  False  0.714286  [P, Y, L, 1, 3, 6, 7]        [Y, L, 1, 3, 6]  \n",
       "9   True  1.000000  [B, H, A, 6, 1, 7, 2]  [B, H, A, 6, 1, 7, 2]  "
      ]
     },
     "execution_count": 109,
     "metadata": {},
     "output_type": "execute_result"
    }
   ],
   "source": [
    "df1.head(10)"
   ]
  },
  {
   "cell_type": "code",
   "execution_count": 110,
   "metadata": {},
   "outputs": [],
   "source": [
    "# define a function to get a list of the missed characters\n",
    "def get_miss_char(row):\n",
    "    all_char = row['all_char']\n",
    "    match_char = row['match_char']\n",
    "    miss_char = [char for char in all_char if char not in match_char]\n",
    "    return miss_char"
   ]
  },
  {
   "cell_type": "code",
   "execution_count": 111,
   "metadata": {},
   "outputs": [],
   "source": [
    "# create a list of missing characters.\n",
    "df1['miss_char'] = df1.apply(lambda row: get_miss_char(row), axis=1)"
   ]
  },
  {
   "cell_type": "code",
   "execution_count": 112,
   "metadata": {},
   "outputs": [
    {
     "data": {
      "text/html": [
       "<div>\n",
       "<style scoped>\n",
       "    .dataframe tbody tr th:only-of-type {\n",
       "        vertical-align: middle;\n",
       "    }\n",
       "\n",
       "    .dataframe tbody tr th {\n",
       "        vertical-align: top;\n",
       "    }\n",
       "\n",
       "    .dataframe thead th {\n",
       "        text-align: right;\n",
       "    }\n",
       "</style>\n",
       "<table border=\"1\" class=\"dataframe\">\n",
       "  <thead>\n",
       "    <tr style=\"text-align: right;\">\n",
       "      <th></th>\n",
       "      <th>image_name</th>\n",
       "      <th>VRN</th>\n",
       "      <th>recognition</th>\n",
       "      <th>match</th>\n",
       "      <th>accuracy</th>\n",
       "      <th>all_char</th>\n",
       "      <th>match_char</th>\n",
       "      <th>miss_char</th>\n",
       "    </tr>\n",
       "  </thead>\n",
       "  <tbody>\n",
       "    <tr>\n",
       "      <th>0</th>\n",
       "      <td>ir_patch/14574_19700101213907739_CBX797_1_ir_p...</td>\n",
       "      <td>CBX797</td>\n",
       "      <td>CBX797</td>\n",
       "      <td>True</td>\n",
       "      <td>1.000000</td>\n",
       "      <td>[C, B, X, 7, 9, 7]</td>\n",
       "      <td>[C, B, X, 7, 9, 7]</td>\n",
       "      <td>[]</td>\n",
       "    </tr>\n",
       "    <tr>\n",
       "      <th>1</th>\n",
       "      <td>ir_patch/14605_19700101004759437_CCR5569_1_ir_...</td>\n",
       "      <td>CCR5569</td>\n",
       "      <td>CCR5569</td>\n",
       "      <td>True</td>\n",
       "      <td>1.000000</td>\n",
       "      <td>[C, C, R, 5, 5, 6, 9]</td>\n",
       "      <td>[C, C, R, 5, 5, 6, 9]</td>\n",
       "      <td>[]</td>\n",
       "    </tr>\n",
       "    <tr>\n",
       "      <th>2</th>\n",
       "      <td>ir_patch/14266_19700101121952907_AT1539_1_ir_p...</td>\n",
       "      <td>AT1539</td>\n",
       "      <td>539</td>\n",
       "      <td>False</td>\n",
       "      <td>0.500000</td>\n",
       "      <td>[A, T, 1, 5, 3, 9]</td>\n",
       "      <td>[5, 3, 9]</td>\n",
       "      <td>[A, T, 1]</td>\n",
       "    </tr>\n",
       "    <tr>\n",
       "      <th>3</th>\n",
       "      <td>ir_patch/14590_19700101221725855_CBF4426_1_ir_...</td>\n",
       "      <td>CBF4426</td>\n",
       "      <td>CBF4426</td>\n",
       "      <td>True</td>\n",
       "      <td>1.000000</td>\n",
       "      <td>[C, B, F, 4, 4, 2, 6]</td>\n",
       "      <td>[C, B, F, 4, 4, 2, 6]</td>\n",
       "      <td>[]</td>\n",
       "    </tr>\n",
       "    <tr>\n",
       "      <th>4</th>\n",
       "      <td>ir_patch/16439_19700101122520938_PVY8368_1_ir_...</td>\n",
       "      <td>PVY8368</td>\n",
       "      <td>PVY8368</td>\n",
       "      <td>True</td>\n",
       "      <td>1.000000</td>\n",
       "      <td>[P, V, Y, 8, 3, 6, 8]</td>\n",
       "      <td>[P, V, Y, 8, 3, 6, 8]</td>\n",
       "      <td>[]</td>\n",
       "    </tr>\n",
       "    <tr>\n",
       "      <th>5</th>\n",
       "      <td>ir_patch/16649_19700101184032831_PNA8367_1_ir_...</td>\n",
       "      <td>PNA8367</td>\n",
       "      <td>PNA8367</td>\n",
       "      <td>True</td>\n",
       "      <td>1.000000</td>\n",
       "      <td>[P, N, A, 8, 3, 6, 7]</td>\n",
       "      <td>[P, N, A, 8, 3, 6, 7]</td>\n",
       "      <td>[]</td>\n",
       "    </tr>\n",
       "    <tr>\n",
       "      <th>6</th>\n",
       "      <td>ir_patch/14765_19700101131613659_PVM4381_1_ir_...</td>\n",
       "      <td>PVM4381</td>\n",
       "      <td>PVAJE</td>\n",
       "      <td>False</td>\n",
       "      <td>0.285714</td>\n",
       "      <td>[P, V, M, 4, 3, 8, 1]</td>\n",
       "      <td>[P, V]</td>\n",
       "      <td>[M, 4, 3, 8, 1]</td>\n",
       "    </tr>\n",
       "    <tr>\n",
       "      <th>7</th>\n",
       "      <td>ir_patch/14864_19700101172545117_PFE1103_1_ir_...</td>\n",
       "      <td>PFE1103</td>\n",
       "      <td>PFEL1O3</td>\n",
       "      <td>False</td>\n",
       "      <td>0.714286</td>\n",
       "      <td>[P, F, E, 1, 1, 0, 3]</td>\n",
       "      <td>[P, F, E, 1, 3]</td>\n",
       "      <td>[0]</td>\n",
       "    </tr>\n",
       "    <tr>\n",
       "      <th>8</th>\n",
       "      <td>ir_patch/14250_19700101120514185_PYL1367_1_ir_...</td>\n",
       "      <td>PYL1367</td>\n",
       "      <td>FYL136</td>\n",
       "      <td>False</td>\n",
       "      <td>0.714286</td>\n",
       "      <td>[P, Y, L, 1, 3, 6, 7]</td>\n",
       "      <td>[Y, L, 1, 3, 6]</td>\n",
       "      <td>[P, 7]</td>\n",
       "    </tr>\n",
       "    <tr>\n",
       "      <th>9</th>\n",
       "      <td>ir_patch/14134_19700101194928245_BHA6172_1_ir_...</td>\n",
       "      <td>BHA6172</td>\n",
       "      <td>BHA6172</td>\n",
       "      <td>True</td>\n",
       "      <td>1.000000</td>\n",
       "      <td>[B, H, A, 6, 1, 7, 2]</td>\n",
       "      <td>[B, H, A, 6, 1, 7, 2]</td>\n",
       "      <td>[]</td>\n",
       "    </tr>\n",
       "  </tbody>\n",
       "</table>\n",
       "</div>"
      ],
      "text/plain": [
       "                                          image_name      VRN recognition  \\\n",
       "0  ir_patch/14574_19700101213907739_CBX797_1_ir_p...   CBX797      CBX797   \n",
       "1  ir_patch/14605_19700101004759437_CCR5569_1_ir_...  CCR5569     CCR5569   \n",
       "2  ir_patch/14266_19700101121952907_AT1539_1_ir_p...   AT1539         539   \n",
       "3  ir_patch/14590_19700101221725855_CBF4426_1_ir_...  CBF4426     CBF4426   \n",
       "4  ir_patch/16439_19700101122520938_PVY8368_1_ir_...  PVY8368     PVY8368   \n",
       "5  ir_patch/16649_19700101184032831_PNA8367_1_ir_...  PNA8367     PNA8367   \n",
       "6  ir_patch/14765_19700101131613659_PVM4381_1_ir_...  PVM4381       PVAJE   \n",
       "7  ir_patch/14864_19700101172545117_PFE1103_1_ir_...  PFE1103     PFEL1O3   \n",
       "8  ir_patch/14250_19700101120514185_PYL1367_1_ir_...  PYL1367      FYL136   \n",
       "9  ir_patch/14134_19700101194928245_BHA6172_1_ir_...  BHA6172     BHA6172   \n",
       "\n",
       "   match  accuracy               all_char             match_char  \\\n",
       "0   True  1.000000     [C, B, X, 7, 9, 7]     [C, B, X, 7, 9, 7]   \n",
       "1   True  1.000000  [C, C, R, 5, 5, 6, 9]  [C, C, R, 5, 5, 6, 9]   \n",
       "2  False  0.500000     [A, T, 1, 5, 3, 9]              [5, 3, 9]   \n",
       "3   True  1.000000  [C, B, F, 4, 4, 2, 6]  [C, B, F, 4, 4, 2, 6]   \n",
       "4   True  1.000000  [P, V, Y, 8, 3, 6, 8]  [P, V, Y, 8, 3, 6, 8]   \n",
       "5   True  1.000000  [P, N, A, 8, 3, 6, 7]  [P, N, A, 8, 3, 6, 7]   \n",
       "6  False  0.285714  [P, V, M, 4, 3, 8, 1]                 [P, V]   \n",
       "7  False  0.714286  [P, F, E, 1, 1, 0, 3]        [P, F, E, 1, 3]   \n",
       "8  False  0.714286  [P, Y, L, 1, 3, 6, 7]        [Y, L, 1, 3, 6]   \n",
       "9   True  1.000000  [B, H, A, 6, 1, 7, 2]  [B, H, A, 6, 1, 7, 2]   \n",
       "\n",
       "         miss_char  \n",
       "0               []  \n",
       "1               []  \n",
       "2        [A, T, 1]  \n",
       "3               []  \n",
       "4               []  \n",
       "5               []  \n",
       "6  [M, 4, 3, 8, 1]  \n",
       "7              [0]  \n",
       "8           [P, 7]  \n",
       "9               []  "
      ]
     },
     "execution_count": 112,
     "metadata": {},
     "output_type": "execute_result"
    }
   ],
   "source": [
    "df1.head(10)"
   ]
  },
  {
   "cell_type": "code",
   "execution_count": 113,
   "metadata": {},
   "outputs": [],
   "source": [
    "# combine all matched characters\n",
    "all_matches = []\n",
    "for i in range(df1.shape[0]):\n",
    "    all_matches += df1.iloc[i, 6]"
   ]
  },
  {
   "cell_type": "code",
   "execution_count": 114,
   "metadata": {},
   "outputs": [
    {
     "name": "stdout",
     "output_type": "stream",
     "text": [
      "count of P: 725\n",
      "count of 3: 677\n",
      "count of 6: 656\n",
      "count of 9: 626\n",
      "count of 4: 624\n",
      "count of 5: 619\n",
      "count of 2: 596\n",
      "count of 8: 582\n",
      "count of C: 568\n",
      "count of 7: 564\n",
      "count of B: 500\n",
      "count of 1: 432\n",
      "count of 0: 413\n",
      "count of A: 294\n",
      "count of D: 174\n",
      "count of F: 144\n",
      "count of J: 141\n",
      "count of G: 138\n",
      "count of L: 137\n",
      "count of H: 130\n",
      "count of E: 127\n",
      "count of T: 122\n",
      "count of Z: 120\n",
      "count of V: 117\n",
      "count of N: 107\n",
      "count of K: 107\n",
      "count of U: 106\n",
      "count of I: 104\n",
      "count of Y: 96\n",
      "count of S: 96\n",
      "count of R: 86\n",
      "count of X: 79\n",
      "count of W: 49\n",
      "count of Q: 25\n",
      "count of M: 15\n",
      "count of O: 6\n"
     ]
    }
   ],
   "source": [
    "# count the matched charaters and sort\n",
    "for count, char in sorted(((all_matches.count(char), char) for char in set(all_matches)), reverse=True):\n",
    "    print(f'count of {char}: {count}')"
   ]
  },
  {
   "cell_type": "code",
   "execution_count": 115,
   "metadata": {},
   "outputs": [
    {
     "name": "stdout",
     "output_type": "stream",
     "text": [
      "count of 1: 230\n",
      "count of 0: 203\n",
      "count of A: 147\n",
      "count of W: 130\n",
      "count of M: 128\n",
      "count of 2: 115\n",
      "count of 8: 89\n",
      "count of 3: 84\n",
      "count of B: 82\n",
      "count of D: 64\n",
      "count of 7: 63\n",
      "count of 4: 62\n",
      "count of Q: 55\n",
      "count of N: 44\n",
      "count of Y: 43\n",
      "count of 6: 43\n",
      "count of G: 42\n",
      "count of T: 41\n",
      "count of 9: 39\n",
      "count of 5: 35\n",
      "count of S: 33\n",
      "count of Z: 29\n",
      "count of P: 27\n",
      "count of I: 24\n",
      "count of H: 24\n",
      "count of F: 24\n",
      "count of C: 20\n",
      "count of K: 18\n",
      "count of X: 16\n",
      "count of R: 14\n",
      "count of L: 13\n",
      "count of J: 12\n",
      "count of E: 11\n",
      "count of V: 8\n",
      "count of U: 7\n",
      "count of O: 2\n",
      "count of w: 1\n"
     ]
    }
   ],
   "source": [
    "# combine all missed characters\n",
    "all_misses = []\n",
    "for i in range(df1.shape[0]):\n",
    "    all_misses += df1.iloc[i, 7]\n",
    "\n",
    "# count the missed charaters and sort\n",
    "for count, char in sorted(((all_misses.count(char), char) for char in set(all_misses)), reverse=True):\n",
    "    print(f'count of {char}: {count}') "
   ]
  },
  {
   "cell_type": "code",
   "execution_count": 116,
   "metadata": {},
   "outputs": [
    {
     "data": {
      "text/plain": [
       "<AxesSubplot:>"
      ]
     },
     "execution_count": 116,
     "metadata": {},
     "output_type": "execute_result"
    },
    {
     "data": {
      "image/png": "[encoded data removed]",
      "text/plain": [
       "<Figure size 432x288 with 1 Axes>"
      ]
     },
     "metadata": {
      "needs_background": "light"
     },
     "output_type": "display_data"
    }
   ],
   "source": [
    "# boxplot of the accuracies\n",
    "df1.boxplot(column=['accuracy'])"
   ]
  },
  {
   "cell_type": "code",
   "execution_count": 117,
   "metadata": {},
   "outputs": [],
   "source": [
    "# label missing one matches\n",
    "df1['miss_one'] = df1['miss_char'].map(lambda x: len(x)==1)"
   ]
  },
  {
   "cell_type": "code",
   "execution_count": 118,
   "metadata": {},
   "outputs": [
    {
     "data": {
      "text/plain": [
       "0.28885227896760024"
      ]
     },
     "execution_count": 118,
     "metadata": {},
     "output_type": "execute_result"
    }
   ],
   "source": [
    "# ratio of missing one matches\n",
    "df1['miss_one'].sum()/df1.shape[0]"
   ]
  },
  {
   "cell_type": "code",
   "execution_count": 119,
   "metadata": {},
   "outputs": [
    {
     "data": {
      "text/plain": [
       "0.6721581548599671"
      ]
     },
     "execution_count": 119,
     "metadata": {},
     "output_type": "execute_result"
    }
   ],
   "source": [
    "# calculate the ratio of exact matches plus missing-one-character matches\n",
    "(df1['miss_one'].sum() + df1['match'].sum())/df1.shape[0]"
   ]
  },
  {
   "cell_type": "markdown",
   "metadata": {},
   "source": [
    "## get the accuracy score: tesseract"
   ]
  },
  {
   "cell_type": "code",
   "execution_count": 82,
   "metadata": {},
   "outputs": [],
   "source": [
    "# load the recognitions\n",
    "df = pd.read_csv('Recognitions by tesseract.csv')"
   ]
  },
  {
   "cell_type": "code",
   "execution_count": 83,
   "metadata": {},
   "outputs": [
    {
     "data": {
      "text/html": [
       "<div>\n",
       "<style scoped>\n",
       "    .dataframe tbody tr th:only-of-type {\n",
       "        vertical-align: middle;\n",
       "    }\n",
       "\n",
       "    .dataframe tbody tr th {\n",
       "        vertical-align: top;\n",
       "    }\n",
       "\n",
       "    .dataframe thead th {\n",
       "        text-align: right;\n",
       "    }\n",
       "</style>\n",
       "<table border=\"1\" class=\"dataframe\">\n",
       "  <thead>\n",
       "    <tr style=\"text-align: right;\">\n",
       "      <th></th>\n",
       "      <th>image_name</th>\n",
       "      <th>VRN</th>\n",
       "      <th>recognition</th>\n",
       "    </tr>\n",
       "  </thead>\n",
       "  <tbody>\n",
       "    <tr>\n",
       "      <th>0</th>\n",
       "      <td>ir_patch/14574_19700101213907739_CBX797_1_ir_p...</td>\n",
       "      <td>CBX797</td>\n",
       "      <td>EBX797E</td>\n",
       "    </tr>\n",
       "    <tr>\n",
       "      <th>1</th>\n",
       "      <td>ir_patch/14605_19700101004759437_CCR5569_1_ir_...</td>\n",
       "      <td>CCR5569</td>\n",
       "      <td>CCR5569</td>\n",
       "    </tr>\n",
       "    <tr>\n",
       "      <th>2</th>\n",
       "      <td>ir_patch/14266_19700101121952907_AT1539_1_ir_p...</td>\n",
       "      <td>AT1539</td>\n",
       "      <td>NaN</td>\n",
       "    </tr>\n",
       "    <tr>\n",
       "      <th>3</th>\n",
       "      <td>ir_patch/14590_19700101221725855_CBF4426_1_ir_...</td>\n",
       "      <td>CBF4426</td>\n",
       "      <td>NaN</td>\n",
       "    </tr>\n",
       "    <tr>\n",
       "      <th>4</th>\n",
       "      <td>ir_patch/16439_19700101122520938_PVY8368_1_ir_...</td>\n",
       "      <td>PVY8368</td>\n",
       "      <td>PU8368</td>\n",
       "    </tr>\n",
       "  </tbody>\n",
       "</table>\n",
       "</div>"
      ],
      "text/plain": [
       "                                          image_name      VRN recognition\n",
       "0  ir_patch/14574_19700101213907739_CBX797_1_ir_p...   CBX797     EBX797E\n",
       "1  ir_patch/14605_19700101004759437_CCR5569_1_ir_...  CCR5569     CCR5569\n",
       "2  ir_patch/14266_19700101121952907_AT1539_1_ir_p...   AT1539         NaN\n",
       "3  ir_patch/14590_19700101221725855_CBF4426_1_ir_...  CBF4426         NaN\n",
       "4  ir_patch/16439_19700101122520938_PVY8368_1_ir_...  PVY8368      PU8368"
      ]
     },
     "execution_count": 83,
     "metadata": {},
     "output_type": "execute_result"
    }
   ],
   "source": [
    "df.head()"
   ]
  },
  {
   "cell_type": "code",
   "execution_count": 84,
   "metadata": {},
   "outputs": [
    {
     "data": {
      "text/plain": [
       "0.053816584294343765"
      ]
     },
     "execution_count": 84,
     "metadata": {},
     "output_type": "execute_result"
    }
   ],
   "source": [
    "df1 = df.copy()\n",
    "# True if exact match otherwise False\n",
    "df1['match'] = df1['VRN'] == df1['recognition']\n",
    "# calculate the percentage of exact matches\n",
    "df1.match.sum()/df1.shape[0]"
   ]
  },
  {
   "cell_type": "markdown",
   "metadata": {},
   "source": [
    "### calculate accuracy score for each plate"
   ]
  },
  {
   "cell_type": "code",
   "execution_count": 85,
   "metadata": {},
   "outputs": [],
   "source": [
    "# fill na with a space\n",
    "df1.fillna(' ', inplace=True)"
   ]
  },
  {
   "cell_type": "code",
   "execution_count": 86,
   "metadata": {},
   "outputs": [],
   "source": [
    "# calculate accuracy score for each plate\n",
    "df1['accuracy'] = df1.apply(lambda row: get_accuracy(row),axis=1)"
   ]
  },
  {
   "cell_type": "code",
   "execution_count": 87,
   "metadata": {},
   "outputs": [
    {
     "data": {
      "text/html": [
       "<div>\n",
       "<style scoped>\n",
       "    .dataframe tbody tr th:only-of-type {\n",
       "        vertical-align: middle;\n",
       "    }\n",
       "\n",
       "    .dataframe tbody tr th {\n",
       "        vertical-align: top;\n",
       "    }\n",
       "\n",
       "    .dataframe thead th {\n",
       "        text-align: right;\n",
       "    }\n",
       "</style>\n",
       "<table border=\"1\" class=\"dataframe\">\n",
       "  <thead>\n",
       "    <tr style=\"text-align: right;\">\n",
       "      <th></th>\n",
       "      <th>image_name</th>\n",
       "      <th>VRN</th>\n",
       "      <th>recognition</th>\n",
       "      <th>match</th>\n",
       "      <th>accuracy</th>\n",
       "    </tr>\n",
       "  </thead>\n",
       "  <tbody>\n",
       "    <tr>\n",
       "      <th>0</th>\n",
       "      <td>ir_patch/14574_19700101213907739_CBX797_1_ir_p...</td>\n",
       "      <td>CBX797</td>\n",
       "      <td>EBX797E</td>\n",
       "      <td>False</td>\n",
       "      <td>0.833333</td>\n",
       "    </tr>\n",
       "    <tr>\n",
       "      <th>1</th>\n",
       "      <td>ir_patch/14605_19700101004759437_CCR5569_1_ir_...</td>\n",
       "      <td>CCR5569</td>\n",
       "      <td>CCR5569</td>\n",
       "      <td>True</td>\n",
       "      <td>1.000000</td>\n",
       "    </tr>\n",
       "    <tr>\n",
       "      <th>2</th>\n",
       "      <td>ir_patch/14266_19700101121952907_AT1539_1_ir_p...</td>\n",
       "      <td>AT1539</td>\n",
       "      <td></td>\n",
       "      <td>False</td>\n",
       "      <td>0.000000</td>\n",
       "    </tr>\n",
       "    <tr>\n",
       "      <th>3</th>\n",
       "      <td>ir_patch/14590_19700101221725855_CBF4426_1_ir_...</td>\n",
       "      <td>CBF4426</td>\n",
       "      <td></td>\n",
       "      <td>False</td>\n",
       "      <td>0.000000</td>\n",
       "    </tr>\n",
       "    <tr>\n",
       "      <th>4</th>\n",
       "      <td>ir_patch/16439_19700101122520938_PVY8368_1_ir_...</td>\n",
       "      <td>PVY8368</td>\n",
       "      <td>PU8368</td>\n",
       "      <td>False</td>\n",
       "      <td>0.714286</td>\n",
       "    </tr>\n",
       "  </tbody>\n",
       "</table>\n",
       "</div>"
      ],
      "text/plain": [
       "                                          image_name      VRN recognition  \\\n",
       "0  ir_patch/14574_19700101213907739_CBX797_1_ir_p...   CBX797     EBX797E   \n",
       "1  ir_patch/14605_19700101004759437_CCR5569_1_ir_...  CCR5569     CCR5569   \n",
       "2  ir_patch/14266_19700101121952907_AT1539_1_ir_p...   AT1539               \n",
       "3  ir_patch/14590_19700101221725855_CBF4426_1_ir_...  CBF4426               \n",
       "4  ir_patch/16439_19700101122520938_PVY8368_1_ir_...  PVY8368      PU8368   \n",
       "\n",
       "   match  accuracy  \n",
       "0  False  0.833333  \n",
       "1   True  1.000000  \n",
       "2  False  0.000000  \n",
       "3  False  0.000000  \n",
       "4  False  0.714286  "
      ]
     },
     "execution_count": 87,
     "metadata": {},
     "output_type": "execute_result"
    }
   ],
   "source": [
    "df1.head()"
   ]
  },
  {
   "cell_type": "code",
   "execution_count": 88,
   "metadata": {},
   "outputs": [
    {
     "data": {
      "text/plain": [
       "count    1821.000000\n",
       "mean        0.340478\n",
       "std         0.371807\n",
       "min         0.000000\n",
       "25%         0.000000\n",
       "50%         0.142857\n",
       "75%         0.714286\n",
       "max         1.000000\n",
       "Name: accuracy, dtype: float64"
      ]
     },
     "execution_count": 88,
     "metadata": {},
     "output_type": "execute_result"
    }
   ],
   "source": [
    "# a stastistics summary of accuracy\n",
    "df1['accuracy'].describe()"
   ]
  },
  {
   "cell_type": "code",
   "execution_count": 89,
   "metadata": {},
   "outputs": [],
   "source": [
    "# get a list of matching characters and miss-matching characters for each plate\n",
    "df1['all_char'] = df1['VRN'].apply(lambda x:[char for char in x])\n",
    "\n",
    "df1['match_char'] = df1.apply(lambda row: get_match_char(row), axis=1)\n",
    "\n",
    "df1['miss_char'] = df1.apply(lambda row: get_miss_char(row), axis=1)"
   ]
  },
  {
   "cell_type": "code",
   "execution_count": 90,
   "metadata": {},
   "outputs": [],
   "source": [
    "# combine all matched characters\n",
    "all_matches = []\n",
    "for i in range(df1.shape[0]):\n",
    "    all_matches += df1.iloc[i, 6]"
   ]
  },
  {
   "cell_type": "code",
   "execution_count": 91,
   "metadata": {},
   "outputs": [
    {
     "name": "stdout",
     "output_type": "stream",
     "text": [
      "count of 3: 358\n",
      "count of P: 346\n",
      "count of 2: 338\n",
      "count of 6: 274\n",
      "count of 0: 266\n",
      "count of 9: 255\n",
      "count of 8: 249\n",
      "count of 5: 234\n",
      "count of B: 231\n",
      "count of 4: 209\n",
      "count of C: 207\n",
      "count of A: 172\n",
      "count of 7: 160\n",
      "count of 1: 136\n",
      "count of L: 68\n",
      "count of F: 61\n",
      "count of E: 56\n",
      "count of T: 53\n",
      "count of H: 53\n",
      "count of G: 51\n",
      "count of Y: 49\n",
      "count of R: 49\n",
      "count of S: 46\n",
      "count of K: 46\n",
      "count of D: 46\n",
      "count of U: 38\n",
      "count of N: 28\n",
      "count of J: 26\n",
      "count of V: 25\n",
      "count of Z: 24\n",
      "count of I: 20\n",
      "count of X: 17\n",
      "count of W: 15\n",
      "count of O: 2\n"
     ]
    }
   ],
   "source": [
    "# count the matching charaters and sort\n",
    "for count, char in sorted(((all_matches.count(char), char) for char in set(all_matches)), reverse=True):\n",
    "    print(f'count of {char}: {count}')"
   ]
  },
  {
   "cell_type": "code",
   "execution_count": 92,
   "metadata": {},
   "outputs": [
    {
     "name": "stdout",
     "output_type": "stream",
     "text": [
      "count of 1: 543\n",
      "count of 4: 478\n",
      "count of 7: 470\n",
      "count of 8: 425\n",
      "count of 6: 415\n",
      "count of 5: 412\n",
      "count of 9: 408\n",
      "count of 3: 408\n",
      "count of P: 403\n",
      "count of 2: 376\n",
      "count of B: 351\n",
      "count of C: 349\n",
      "count of 0: 349\n",
      "count of A: 269\n",
      "count of D: 191\n",
      "count of W: 164\n",
      "count of M: 144\n",
      "count of G: 131\n",
      "count of J: 128\n",
      "count of Z: 125\n",
      "count of N: 123\n",
      "count of T: 109\n",
      "count of F: 109\n",
      "count of I: 108\n",
      "count of H: 101\n",
      "count of V: 100\n",
      "count of Y: 90\n",
      "count of L: 84\n",
      "count of S: 83\n",
      "count of E: 83\n",
      "count of Q: 82\n",
      "count of K: 79\n",
      "count of X: 78\n",
      "count of U: 75\n",
      "count of R: 53\n",
      "count of O: 6\n",
      "count of w: 1\n"
     ]
    }
   ],
   "source": [
    "# combine all missing characters\n",
    "all_misses = []\n",
    "for i in range(df1.shape[0]):\n",
    "    all_misses += df1.iloc[i, 7]\n",
    "\n",
    "# count the missing charaters and sort\n",
    "for count, char in sorted(((all_misses.count(char), char) for char in set(all_misses)), reverse=True):\n",
    "    print(f'count of {char}: {count}') "
   ]
  },
  {
   "cell_type": "code",
   "execution_count": 93,
   "metadata": {},
   "outputs": [
    {
     "data": {
      "text/plain": [
       "<AxesSubplot:>"
      ]
     },
     "execution_count": 93,
     "metadata": {},
     "output_type": "execute_result"
    },
    {
     "data": {
      "image/png": "[encoded data removed]",
      "text/plain": [
       "<Figure size 432x288 with 1 Axes>"
      ]
     },
     "metadata": {
      "needs_background": "light"
     },
     "output_type": "display_data"
    }
   ],
   "source": [
    "# boxlplot of the accuracy\n",
    "df1.boxplot(column=['accuracy'])"
   ]
  },
  {
   "cell_type": "code",
   "execution_count": 94,
   "metadata": {},
   "outputs": [
    {
     "data": {
      "text/plain": [
       "0.128500823723229"
      ]
     },
     "execution_count": 94,
     "metadata": {},
     "output_type": "execute_result"
    }
   ],
   "source": [
    "# label the recognitions where there is only one miss-matching character\n",
    "df1['miss_one'] = df1['miss_char'].map(lambda x: len(x)==1)\n",
    "df1['miss_one'].sum()/df1.shape[0]"
   ]
  },
  {
   "cell_type": "code",
   "execution_count": 95,
   "metadata": {},
   "outputs": [
    {
     "data": {
      "text/plain": [
       "0.18231740801757276"
      ]
     },
     "execution_count": 95,
     "metadata": {},
     "output_type": "execute_result"
    }
   ],
   "source": [
    "# calculate the percentage of exact match plus one miss-one-character match\n",
    "(df1['miss_one'].sum() + df1['match'].sum())/df1.shape[0]"
   ]
  },
  {
   "cell_type": "markdown",
   "metadata": {},
   "source": [
    "### exploration"
   ]
  },
  {
   "cell_type": "markdown",
   "metadata": {},
   "source": [
    "why \"1\" is the top missed character(EasyOCR)?"
   ]
  },
  {
   "cell_type": "code",
   "execution_count": 120,
   "metadata": {},
   "outputs": [],
   "source": [
    "# label the recognitions where '1' was not correctly recognized.\n",
    "df1['miss_1'] = df1['miss_char'].apply(lambda x: \"1\" in x)"
   ]
  },
  {
   "cell_type": "code",
   "execution_count": 121,
   "metadata": {},
   "outputs": [],
   "source": [
    "# select these recognitions\n",
    "temp = df1[df1['miss_1']==True]"
   ]
  },
  {
   "cell_type": "code",
   "execution_count": 122,
   "metadata": {},
   "outputs": [
    {
     "data": {
      "image/png": "[encoded data removed]",
      "text/plain": [
       "<Figure size 432x288 with 9 Axes>"
      ]
     },
     "metadata": {
      "needs_background": "light"
     },
     "output_type": "display_data"
    }
   ],
   "source": [
    "# display some of them\n",
    "for i in range(9):\n",
    "    plt.subplot(330+1+i)\n",
    "    filename = temp.iloc[i+35,0]\n",
    "    image = cv2.imread(filename)\n",
    "    plt.imshow(image)\n",
    "    plt.title(temp.iloc[i+35,2])\n",
    "plt.show()"
   ]
  },
  {
   "cell_type": "markdown",
   "metadata": {},
   "source": [
    "\"1\" is sometimes recognized as \"I\" or \"L\"."
   ]
  },
  {
   "cell_type": "markdown",
   "metadata": {},
   "source": [
    "why \"0\" is the top missed character(EasyOCR)?"
   ]
  },
  {
   "cell_type": "code",
   "execution_count": 123,
   "metadata": {},
   "outputs": [],
   "source": [
    "# label the recognitions where '0' was not correctly recognized.\n",
    "df1['miss_0'] = df1['miss_char'].apply(lambda x: \"0\" in x)"
   ]
  },
  {
   "cell_type": "code",
   "execution_count": 124,
   "metadata": {},
   "outputs": [],
   "source": [
    "# select these recognitions\n",
    "temp = df1[df1['miss_0']==True]"
   ]
  },
  {
   "cell_type": "code",
   "execution_count": 125,
   "metadata": {},
   "outputs": [
    {
     "data": {
      "image/png": "[encoded data removed]",
      "text/plain": [
       "<Figure size 432x288 with 9 Axes>"
      ]
     },
     "metadata": {
      "needs_background": "light"
     },
     "output_type": "display_data"
    }
   ],
   "source": [
    "# display some of them\n",
    "for i in range(9):\n",
    "    plt.subplot(330+1+i)\n",
    "    filename = temp.iloc[i,0]\n",
    "    image = cv2.imread(filename)\n",
    "    plt.imshow(image)\n",
    "    plt.title(temp.iloc[i,2])\n",
    "plt.show()"
   ]
  },
  {
   "cell_type": "markdown",
   "metadata": {},
   "source": [
    "\"0\" is sometimes recognized as \"O\" ."
   ]
  },
  {
   "cell_type": "code",
   "execution_count": 126,
   "metadata": {},
   "outputs": [],
   "source": [
    "# label the recognitions where 'A' was not correctly recognized.\n",
    "df1['miss_A'] = df1['miss_char'].apply(lambda x: \"A\" in x)"
   ]
  },
  {
   "cell_type": "code",
   "execution_count": 127,
   "metadata": {},
   "outputs": [],
   "source": [
    "# select these recognitions\n",
    "temp = df1[df1['miss_A']==True]"
   ]
  },
  {
   "cell_type": "code",
   "execution_count": 128,
   "metadata": {},
   "outputs": [
    {
     "data": {
      "image/png": "[encoded data removed]",
      "text/plain": [
       "<Figure size 432x288 with 9 Axes>"
      ]
     },
     "metadata": {
      "needs_background": "light"
     },
     "output_type": "display_data"
    }
   ],
   "source": [
    "# show some of them\n",
    "for i in range(9):\n",
    "    plt.subplot(330+1+i)\n",
    "    filename = temp.iloc[i+20,0]\n",
    "    image = cv2.imread(filename)\n",
    "    plt.imshow(image)\n",
    "    plt.title(temp.iloc[i+20,2])\n",
    "plt.show()"
   ]
  },
  {
   "cell_type": "markdown",
   "metadata": {},
   "source": [
    "\"A\" is sometimes recognized as \"4\"."
   ]
  },
  {
   "cell_type": "markdown",
   "metadata": {},
   "source": [
    "why no matches at all?"
   ]
  },
  {
   "cell_type": "code",
   "execution_count": 129,
   "metadata": {},
   "outputs": [],
   "source": [
    "# label recognitions with no matches at all\n",
    "df1['no_match'] = df1['match_char'].apply(lambda x: len(x)==0)"
   ]
  },
  {
   "cell_type": "code",
   "execution_count": 130,
   "metadata": {},
   "outputs": [],
   "source": [
    "# select these recognitions\n",
    "temp = df1[df1['no_match']==True]"
   ]
  },
  {
   "cell_type": "code",
   "execution_count": 131,
   "metadata": {},
   "outputs": [
    {
     "data": {
      "image/png": "[encoded data removed]",
      "text/plain": [
       "<Figure size 432x288 with 9 Axes>"
      ]
     },
     "metadata": {
      "needs_background": "light"
     },
     "output_type": "display_data"
    }
   ],
   "source": [
    "# show some of them\n",
    "for i in range(9):\n",
    "    plt.subplot(330+1+i)\n",
    "    filename = temp.iloc[i+5,0]\n",
    "    image = cv2.imread(filename)\n",
    "    plt.imshow(image)\n",
    "    plt.title(temp.iloc[i+5,2])\n",
    "plt.show()"
   ]
  },
  {
   "cell_type": "markdown",
   "metadata": {},
   "source": [
    "When the image is too bright, too dark, or the quality of the image is low, the recognition result is bad."
   ]
  },
  {
   "cell_type": "code",
   "execution_count": 132,
   "metadata": {},
   "outputs": [
    {
     "data": {
      "text/html": [
       "<div>\n",
       "<style scoped>\n",
       "    .dataframe tbody tr th:only-of-type {\n",
       "        vertical-align: middle;\n",
       "    }\n",
       "\n",
       "    .dataframe tbody tr th {\n",
       "        vertical-align: top;\n",
       "    }\n",
       "\n",
       "    .dataframe thead th {\n",
       "        text-align: right;\n",
       "    }\n",
       "</style>\n",
       "<table border=\"1\" class=\"dataframe\">\n",
       "  <thead>\n",
       "    <tr style=\"text-align: right;\">\n",
       "      <th></th>\n",
       "      <th>image_name</th>\n",
       "      <th>VRN</th>\n",
       "      <th>recognition</th>\n",
       "      <th>match</th>\n",
       "      <th>accuracy</th>\n",
       "      <th>all_char</th>\n",
       "      <th>match_char</th>\n",
       "      <th>miss_char</th>\n",
       "      <th>miss_one</th>\n",
       "      <th>miss_1</th>\n",
       "      <th>miss_0</th>\n",
       "      <th>miss_A</th>\n",
       "      <th>no_match</th>\n",
       "    </tr>\n",
       "  </thead>\n",
       "  <tbody>\n",
       "    <tr>\n",
       "      <th>0</th>\n",
       "      <td>ir_patch/14574_19700101213907739_CBX797_1_ir_p...</td>\n",
       "      <td>CBX797</td>\n",
       "      <td>CBX797</td>\n",
       "      <td>True</td>\n",
       "      <td>1.0</td>\n",
       "      <td>[C, B, X, 7, 9, 7]</td>\n",
       "      <td>[C, B, X, 7, 9, 7]</td>\n",
       "      <td>[]</td>\n",
       "      <td>False</td>\n",
       "      <td>False</td>\n",
       "      <td>False</td>\n",
       "      <td>False</td>\n",
       "      <td>False</td>\n",
       "    </tr>\n",
       "    <tr>\n",
       "      <th>1</th>\n",
       "      <td>ir_patch/14605_19700101004759437_CCR5569_1_ir_...</td>\n",
       "      <td>CCR5569</td>\n",
       "      <td>CCR5569</td>\n",
       "      <td>True</td>\n",
       "      <td>1.0</td>\n",
       "      <td>[C, C, R, 5, 5, 6, 9]</td>\n",
       "      <td>[C, C, R, 5, 5, 6, 9]</td>\n",
       "      <td>[]</td>\n",
       "      <td>False</td>\n",
       "      <td>False</td>\n",
       "      <td>False</td>\n",
       "      <td>False</td>\n",
       "      <td>False</td>\n",
       "    </tr>\n",
       "    <tr>\n",
       "      <th>2</th>\n",
       "      <td>ir_patch/14266_19700101121952907_AT1539_1_ir_p...</td>\n",
       "      <td>AT1539</td>\n",
       "      <td>539</td>\n",
       "      <td>False</td>\n",
       "      <td>0.5</td>\n",
       "      <td>[A, T, 1, 5, 3, 9]</td>\n",
       "      <td>[5, 3, 9]</td>\n",
       "      <td>[A, T, 1]</td>\n",
       "      <td>False</td>\n",
       "      <td>True</td>\n",
       "      <td>False</td>\n",
       "      <td>True</td>\n",
       "      <td>False</td>\n",
       "    </tr>\n",
       "    <tr>\n",
       "      <th>3</th>\n",
       "      <td>ir_patch/14590_19700101221725855_CBF4426_1_ir_...</td>\n",
       "      <td>CBF4426</td>\n",
       "      <td>CBF4426</td>\n",
       "      <td>True</td>\n",
       "      <td>1.0</td>\n",
       "      <td>[C, B, F, 4, 4, 2, 6]</td>\n",
       "      <td>[C, B, F, 4, 4, 2, 6]</td>\n",
       "      <td>[]</td>\n",
       "      <td>False</td>\n",
       "      <td>False</td>\n",
       "      <td>False</td>\n",
       "      <td>False</td>\n",
       "      <td>False</td>\n",
       "    </tr>\n",
       "    <tr>\n",
       "      <th>4</th>\n",
       "      <td>ir_patch/16439_19700101122520938_PVY8368_1_ir_...</td>\n",
       "      <td>PVY8368</td>\n",
       "      <td>PVY8368</td>\n",
       "      <td>True</td>\n",
       "      <td>1.0</td>\n",
       "      <td>[P, V, Y, 8, 3, 6, 8]</td>\n",
       "      <td>[P, V, Y, 8, 3, 6, 8]</td>\n",
       "      <td>[]</td>\n",
       "      <td>False</td>\n",
       "      <td>False</td>\n",
       "      <td>False</td>\n",
       "      <td>False</td>\n",
       "      <td>False</td>\n",
       "    </tr>\n",
       "  </tbody>\n",
       "</table>\n",
       "</div>"
      ],
      "text/plain": [
       "                                          image_name      VRN recognition  \\\n",
       "0  ir_patch/14574_19700101213907739_CBX797_1_ir_p...   CBX797      CBX797   \n",
       "1  ir_patch/14605_19700101004759437_CCR5569_1_ir_...  CCR5569     CCR5569   \n",
       "2  ir_patch/14266_19700101121952907_AT1539_1_ir_p...   AT1539         539   \n",
       "3  ir_patch/14590_19700101221725855_CBF4426_1_ir_...  CBF4426     CBF4426   \n",
       "4  ir_patch/16439_19700101122520938_PVY8368_1_ir_...  PVY8368     PVY8368   \n",
       "\n",
       "   match  accuracy               all_char             match_char  miss_char  \\\n",
       "0   True       1.0     [C, B, X, 7, 9, 7]     [C, B, X, 7, 9, 7]         []   \n",
       "1   True       1.0  [C, C, R, 5, 5, 6, 9]  [C, C, R, 5, 5, 6, 9]         []   \n",
       "2  False       0.5     [A, T, 1, 5, 3, 9]              [5, 3, 9]  [A, T, 1]   \n",
       "3   True       1.0  [C, B, F, 4, 4, 2, 6]  [C, B, F, 4, 4, 2, 6]         []   \n",
       "4   True       1.0  [P, V, Y, 8, 3, 6, 8]  [P, V, Y, 8, 3, 6, 8]         []   \n",
       "\n",
       "   miss_one  miss_1  miss_0  miss_A  no_match  \n",
       "0     False   False   False   False     False  \n",
       "1     False   False   False   False     False  \n",
       "2     False    True   False    True     False  \n",
       "3     False   False   False   False     False  \n",
       "4     False   False   False   False     False  "
      ]
     },
     "execution_count": 132,
     "metadata": {},
     "output_type": "execute_result"
    }
   ],
   "source": [
    "df1.head()"
   ]
  },
  {
   "cell_type": "code",
   "execution_count": 133,
   "metadata": {},
   "outputs": [],
   "source": [
    "# label the recognitions that are longer than the target.\n",
    "df1['longer'] = df1.apply(lambda x: len(x['recognition'])>len(x['VRN']),axis=1)"
   ]
  },
  {
   "cell_type": "code",
   "execution_count": 134,
   "metadata": {},
   "outputs": [
    {
     "data": {
      "text/plain": [
       "148"
      ]
     },
     "execution_count": 134,
     "metadata": {},
     "output_type": "execute_result"
    }
   ],
   "source": [
    "df1.longer.sum()"
   ]
  },
  {
   "cell_type": "code",
   "execution_count": 135,
   "metadata": {},
   "outputs": [],
   "source": [
    "# select these recognitions\n",
    "temp = df1[df1['longer']==True]"
   ]
  },
  {
   "cell_type": "code",
   "execution_count": 136,
   "metadata": {},
   "outputs": [
    {
     "data": {
      "text/html": [
       "<div>\n",
       "<style scoped>\n",
       "    .dataframe tbody tr th:only-of-type {\n",
       "        vertical-align: middle;\n",
       "    }\n",
       "\n",
       "    .dataframe tbody tr th {\n",
       "        vertical-align: top;\n",
       "    }\n",
       "\n",
       "    .dataframe thead th {\n",
       "        text-align: right;\n",
       "    }\n",
       "</style>\n",
       "<table border=\"1\" class=\"dataframe\">\n",
       "  <thead>\n",
       "    <tr style=\"text-align: right;\">\n",
       "      <th></th>\n",
       "      <th>image_name</th>\n",
       "      <th>VRN</th>\n",
       "      <th>recognition</th>\n",
       "      <th>match</th>\n",
       "      <th>accuracy</th>\n",
       "      <th>all_char</th>\n",
       "      <th>match_char</th>\n",
       "      <th>miss_char</th>\n",
       "      <th>miss_one</th>\n",
       "      <th>miss_1</th>\n",
       "      <th>miss_0</th>\n",
       "      <th>miss_A</th>\n",
       "      <th>no_match</th>\n",
       "      <th>longer</th>\n",
       "    </tr>\n",
       "  </thead>\n",
       "  <tbody>\n",
       "    <tr>\n",
       "      <th>51</th>\n",
       "      <td>ir_patch/16593_19700101160648812_DL9770B_1_ir_...</td>\n",
       "      <td>DL9770B</td>\n",
       "      <td>DL9770B1</td>\n",
       "      <td>False</td>\n",
       "      <td>1.000000</td>\n",
       "      <td>[D, L, 9, 7, 7, 0, B]</td>\n",
       "      <td>[D, L, 9, 7, 7, 0, B]</td>\n",
       "      <td>[]</td>\n",
       "      <td>False</td>\n",
       "      <td>False</td>\n",
       "      <td>False</td>\n",
       "      <td>False</td>\n",
       "      <td>False</td>\n",
       "      <td>True</td>\n",
       "    </tr>\n",
       "    <tr>\n",
       "      <th>69</th>\n",
       "      <td>ir_patch/14145_19700101203157953_AGV6998_1_ir_...</td>\n",
       "      <td>AGV6998</td>\n",
       "      <td>AGV69987</td>\n",
       "      <td>False</td>\n",
       "      <td>1.000000</td>\n",
       "      <td>[A, G, V, 6, 9, 9, 8]</td>\n",
       "      <td>[A, G, V, 6, 9, 9, 8]</td>\n",
       "      <td>[]</td>\n",
       "      <td>False</td>\n",
       "      <td>False</td>\n",
       "      <td>False</td>\n",
       "      <td>False</td>\n",
       "      <td>False</td>\n",
       "      <td>True</td>\n",
       "    </tr>\n",
       "    <tr>\n",
       "      <th>71</th>\n",
       "      <td>ir_patch/15885_19700101120555961_B3605_1_ir_pa...</td>\n",
       "      <td>B3605</td>\n",
       "      <td>BCC35051</td>\n",
       "      <td>False</td>\n",
       "      <td>0.800000</td>\n",
       "      <td>[B, 3, 6, 0, 5]</td>\n",
       "      <td>[B, 3, 0, 5]</td>\n",
       "      <td>[6]</td>\n",
       "      <td>True</td>\n",
       "      <td>False</td>\n",
       "      <td>False</td>\n",
       "      <td>False</td>\n",
       "      <td>False</td>\n",
       "      <td>True</td>\n",
       "    </tr>\n",
       "    <tr>\n",
       "      <th>75</th>\n",
       "      <td>ir_patch/16629_19700101175151211_43DH392_1_ir_...</td>\n",
       "      <td>43DH392</td>\n",
       "      <td>J430H392</td>\n",
       "      <td>False</td>\n",
       "      <td>0.857143</td>\n",
       "      <td>[4, 3, D, H, 3, 9, 2]</td>\n",
       "      <td>[4, 3, H, 3, 9, 2]</td>\n",
       "      <td>[D]</td>\n",
       "      <td>True</td>\n",
       "      <td>False</td>\n",
       "      <td>False</td>\n",
       "      <td>False</td>\n",
       "      <td>False</td>\n",
       "      <td>True</td>\n",
       "    </tr>\n",
       "    <tr>\n",
       "      <th>88</th>\n",
       "      <td>ir_patch/16167_19700101194622310_GT674I_1_ir_p...</td>\n",
       "      <td>GT674I</td>\n",
       "      <td>7616741</td>\n",
       "      <td>False</td>\n",
       "      <td>0.500000</td>\n",
       "      <td>[G, T, 6, 7, 4, I]</td>\n",
       "      <td>[6, 7, 4]</td>\n",
       "      <td>[G, T, I]</td>\n",
       "      <td>False</td>\n",
       "      <td>False</td>\n",
       "      <td>False</td>\n",
       "      <td>False</td>\n",
       "      <td>False</td>\n",
       "      <td>True</td>\n",
       "    </tr>\n",
       "    <tr>\n",
       "      <th>90</th>\n",
       "      <td>ir_patch/15846_19700101112612578_BQ90DQ_1_ir_p...</td>\n",
       "      <td>BQ90DQ</td>\n",
       "      <td>BO9O091</td>\n",
       "      <td>False</td>\n",
       "      <td>0.500000</td>\n",
       "      <td>[B, Q, 9, 0, D, Q]</td>\n",
       "      <td>[B, 9, 0]</td>\n",
       "      <td>[Q, D, Q]</td>\n",
       "      <td>False</td>\n",
       "      <td>False</td>\n",
       "      <td>False</td>\n",
       "      <td>False</td>\n",
       "      <td>False</td>\n",
       "      <td>True</td>\n",
       "    </tr>\n",
       "    <tr>\n",
       "      <th>94</th>\n",
       "      <td>ir_patch/16019_19700101135017886_PB2245_1_ir_p...</td>\n",
       "      <td>PB2245</td>\n",
       "      <td>PGB2245</td>\n",
       "      <td>False</td>\n",
       "      <td>1.000000</td>\n",
       "      <td>[P, B, 2, 2, 4, 5]</td>\n",
       "      <td>[P, B, 2, 2, 4, 5]</td>\n",
       "      <td>[]</td>\n",
       "      <td>False</td>\n",
       "      <td>False</td>\n",
       "      <td>False</td>\n",
       "      <td>False</td>\n",
       "      <td>False</td>\n",
       "      <td>True</td>\n",
       "    </tr>\n",
       "    <tr>\n",
       "      <th>123</th>\n",
       "      <td>ir_patch/15373_19700101124839030_CBU6551_1_ir_...</td>\n",
       "      <td>CBU6551</td>\n",
       "      <td>ICBU6554</td>\n",
       "      <td>False</td>\n",
       "      <td>0.857143</td>\n",
       "      <td>[C, B, U, 6, 5, 5, 1]</td>\n",
       "      <td>[C, B, U, 6, 5, 5]</td>\n",
       "      <td>[1]</td>\n",
       "      <td>True</td>\n",
       "      <td>True</td>\n",
       "      <td>False</td>\n",
       "      <td>False</td>\n",
       "      <td>False</td>\n",
       "      <td>True</td>\n",
       "    </tr>\n",
       "    <tr>\n",
       "      <th>135</th>\n",
       "      <td>ir_patch/15418_19700101132450686_CBU4_1_ir_pat...</td>\n",
       "      <td>CBU4</td>\n",
       "      <td>CBU33</td>\n",
       "      <td>False</td>\n",
       "      <td>0.750000</td>\n",
       "      <td>[C, B, U, 4]</td>\n",
       "      <td>[C, B, U]</td>\n",
       "      <td>[4]</td>\n",
       "      <td>True</td>\n",
       "      <td>False</td>\n",
       "      <td>False</td>\n",
       "      <td>False</td>\n",
       "      <td>False</td>\n",
       "      <td>True</td>\n",
       "    </tr>\n",
       "    <tr>\n",
       "      <th>140</th>\n",
       "      <td>ir_patch/15485_19700101160307863_BIF0207_1_ir_...</td>\n",
       "      <td>BIF0207</td>\n",
       "      <td>BIF02071</td>\n",
       "      <td>False</td>\n",
       "      <td>1.000000</td>\n",
       "      <td>[B, I, F, 0, 2, 0, 7]</td>\n",
       "      <td>[B, I, F, 0, 2, 0, 7]</td>\n",
       "      <td>[]</td>\n",
       "      <td>False</td>\n",
       "      <td>False</td>\n",
       "      <td>False</td>\n",
       "      <td>False</td>\n",
       "      <td>False</td>\n",
       "      <td>True</td>\n",
       "    </tr>\n",
       "  </tbody>\n",
       "</table>\n",
       "</div>"
      ],
      "text/plain": [
       "                                            image_name      VRN recognition  \\\n",
       "51   ir_patch/16593_19700101160648812_DL9770B_1_ir_...  DL9770B    DL9770B1   \n",
       "69   ir_patch/14145_19700101203157953_AGV6998_1_ir_...  AGV6998    AGV69987   \n",
       "71   ir_patch/15885_19700101120555961_B3605_1_ir_pa...    B3605    BCC35051   \n",
       "75   ir_patch/16629_19700101175151211_43DH392_1_ir_...  43DH392    J430H392   \n",
       "88   ir_patch/16167_19700101194622310_GT674I_1_ir_p...   GT674I     7616741   \n",
       "90   ir_patch/15846_19700101112612578_BQ90DQ_1_ir_p...   BQ90DQ     BO9O091   \n",
       "94   ir_patch/16019_19700101135017886_PB2245_1_ir_p...   PB2245     PGB2245   \n",
       "123  ir_patch/15373_19700101124839030_CBU6551_1_ir_...  CBU6551    ICBU6554   \n",
       "135  ir_patch/15418_19700101132450686_CBU4_1_ir_pat...     CBU4       CBU33   \n",
       "140  ir_patch/15485_19700101160307863_BIF0207_1_ir_...  BIF0207    BIF02071   \n",
       "\n",
       "     match  accuracy               all_char             match_char  miss_char  \\\n",
       "51   False  1.000000  [D, L, 9, 7, 7, 0, B]  [D, L, 9, 7, 7, 0, B]         []   \n",
       "69   False  1.000000  [A, G, V, 6, 9, 9, 8]  [A, G, V, 6, 9, 9, 8]         []   \n",
       "71   False  0.800000        [B, 3, 6, 0, 5]           [B, 3, 0, 5]        [6]   \n",
       "75   False  0.857143  [4, 3, D, H, 3, 9, 2]     [4, 3, H, 3, 9, 2]        [D]   \n",
       "88   False  0.500000     [G, T, 6, 7, 4, I]              [6, 7, 4]  [G, T, I]   \n",
       "90   False  0.500000     [B, Q, 9, 0, D, Q]              [B, 9, 0]  [Q, D, Q]   \n",
       "94   False  1.000000     [P, B, 2, 2, 4, 5]     [P, B, 2, 2, 4, 5]         []   \n",
       "123  False  0.857143  [C, B, U, 6, 5, 5, 1]     [C, B, U, 6, 5, 5]        [1]   \n",
       "135  False  0.750000           [C, B, U, 4]              [C, B, U]        [4]   \n",
       "140  False  1.000000  [B, I, F, 0, 2, 0, 7]  [B, I, F, 0, 2, 0, 7]         []   \n",
       "\n",
       "     miss_one  miss_1  miss_0  miss_A  no_match  longer  \n",
       "51      False   False   False   False     False    True  \n",
       "69      False   False   False   False     False    True  \n",
       "71       True   False   False   False     False    True  \n",
       "75       True   False   False   False     False    True  \n",
       "88      False   False   False   False     False    True  \n",
       "90      False   False   False   False     False    True  \n",
       "94      False   False   False   False     False    True  \n",
       "123      True    True   False   False     False    True  \n",
       "135      True   False   False   False     False    True  \n",
       "140     False   False   False   False     False    True  "
      ]
     },
     "execution_count": 136,
     "metadata": {},
     "output_type": "execute_result"
    }
   ],
   "source": [
    "temp.head(10)"
   ]
  },
  {
   "cell_type": "code",
   "execution_count": 137,
   "metadata": {},
   "outputs": [
    {
     "data": {
      "image/png": "[encoded data removed]",
      "text/plain": [
       "<Figure size 432x288 with 9 Axes>"
      ]
     },
     "metadata": {
      "needs_background": "light"
     },
     "output_type": "display_data"
    }
   ],
   "source": [
    "# show some of them\n",
    "for i in range(9):\n",
    "    plt.subplot(330+1+i)\n",
    "    filename = temp.iloc[i+20,0]\n",
    "    image = cv2.imread(filename)\n",
    "    plt.imshow(image)\n",
    "    plt.title(temp.iloc[i+20,2])\n",
    "plt.show()"
   ]
  },
  {
   "cell_type": "markdown",
   "metadata": {},
   "source": [
    "From these examples, we can see that EasyOCR tends to add \"1\" to the end of the recognitions. It probably because the edges are treated as a character. "
   ]
  },
  {
   "cell_type": "code",
   "execution_count": null,
   "metadata": {},
   "outputs": [],
   "source": []
  }
 ],
 "metadata": {
  "kernelspec": {
   "display_name": "Python 3",
   "language": "python",
   "name": "python3"
  },
  "language_info": {
   "codemirror_mode": {
    "name": "ipython",
    "version": 3
   },
   "file_extension": ".py",
   "mimetype": "text/x-python",
   "name": "python",
   "nbconvert_exporter": "python",
   "pygments_lexer": "ipython3",
   "version": "3.7.6"
  }
 },
 "nbformat": 4,
 "nbformat_minor": 5
}
